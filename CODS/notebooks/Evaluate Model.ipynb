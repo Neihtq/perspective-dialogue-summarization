{
 "cells": [
  {
   "cell_type": "code",
   "execution_count": null,
   "id": "c402f3a2",
   "metadata": {},
   "outputs": [],
   "source": [
    "import os\n",
    "\n",
    "os.environ['CUDA_VISIBLE_DEVICES'] = '0'\n",
    "save_path = './save/dialoguesum_4'\n",
    "model_path = os.path.join(save_path, 'pytorch.bin')\n",
    "\n",
    "dialoguesum_path = './data/dialogsum/'\n",
    "clean_path = os.path.join(dialoguesum_path, 'clean_data')\n",
    "test_path = os.path.join(clean_path, 'test.json')"
   ]
  },
  {
   "cell_type": "code",
   "execution_count": null,
   "id": "5e60cb4e",
   "metadata": {},
   "outputs": [],
   "source": [
    "from hf_train_bart import Bart\n",
    "model = Bart()"
   ]
  },
  {
   "cell_type": "code",
   "execution_count": 3,
   "id": "6dc9d48f",
   "metadata": {},
   "outputs": [],
   "source": [
    "model.args.oracle_functurn_context = False\n",
    "model.args.ctrl_nb_summary_sent = 0\n",
    "model.args.source_max_len = 512\n",
    "model.args.target_max_len = 50\n",
    "model.args.eval_batch_size = 8\n",
    "model.args.no_repeat_ngram_size = 0\n",
    "model.args.beam = 4\n",
    "model.arg.dev_file_path = './dta/new_dialogsum/clean_data/'"
   ]
  },
  {
   "cell_type": "code",
   "execution_count": 17,
   "id": "c5a16976",
   "metadata": {},
   "outputs": [
    {
     "name": "stdout",
     "output_type": "stream",
     "text": [
      "\n",
      "./data/dialogsum/clean_data/test.json 837\n",
      "examples[0].ID test_0#0\n",
      "examples[0].context <s> <hl> <s> #Person1#: ms . dawson , i need you to take a dictation for me . <s> #Person2#: yes , sir . <s> #Person1#: this should go out as an intra-office memorandum to all employees by this afternoon . are you ready ? <s> #Person2#: yes , sir . go ahead . <s> #Person1#: attention all staff . effective immediately , all office communications are restricted to email correspondence and official memos . the use of instant message programs by employees during working hours is strictly prohibited . <s> #Person2#: sir , does this apply to intra-office communications only ? or will also restrict external communications ? <s> #Person1#: should apply to all communications , not only in this office between employees , but also any outside communications . <s> #Person2#: but sir , many employees use instant messaging to communicate with their clients . <s> #Person1#: they will just have to change their communication methods . i don't want any - one using instant messaging in this office . wastes too much time ! now , please continue with the memo . where were we ? <s> #Person2#: this applies to internal and external communications . <s> #Person1#: yes . any employee who persists in using instant messaging will first receive a warning and be placed on probation . at second offense , the employee will face termination . any questions regarding this new policy may be directed to department heads . <s> #Person2#: is that all ? <s> #Person1#: yes . please get this memo typed up and distributed to all employees before 4 pm . <hl>\n",
      "examples[0].summary Ms. Dawson helps #Person1# to write a memo to inform every employee that they have to change the communication method and should not use Instant Messaging anymore.\n",
      "examples[0].func_turn_label [1, 0, 1, 0, 1, 1, 1, 1, 1, 1, 1, 0, 1]\n",
      "examples[0].module_index [-1, -1, 0, -1, -1, 0, -1, -1, 2, -1, -1, -1, -1]\n",
      "examples[0].key_phrases [['dawson'], [], ['should go out as an intra-office memorandum to all employees by this afternoon'], [], ['the use of instant message programs by employees during working hours', 'are restricted to email correspondence and official memos'], ['will also restrict external communications'], ['should apply to all communications , not only in this office between employees , but also any outside communications'], ['many employees', 'use instant messaging to communicate with their clients'], ['will just have to change their communication methods', \"don't want any - one using instant messaging in this office\"], ['applies to internal and external communications'], ['any employee who persists in using instant messaging'], [], ['get this memo typed up and distributed to all employees before 4 pm']]\n",
      "\n"
     ]
    },
    {
     "name": "stderr",
     "output_type": "stream",
     "text": [
      "Examples: 100%|███████████████████████████████████████████████████| 837/837 [00:00<00:00, 868.97it/s]\n"
     ]
    },
    {
     "name": "stdout",
     "output_type": "stream",
     "text": [
      "[INFO] max_target_len 207\n",
      "[INFO] Testing file_path: ./data/dialogsum/clean_data/test.json\n"
     ]
    },
    {
     "name": "stderr",
     "output_type": "stream",
     "text": [
      "Generating:   0%|                                                            | 0/105 [00:00<?, ?it/s]/home/tnguyen/miniconda/envs/coref/lib/python3.8/site-packages/torch/_tensor.py:575: UserWarning: floor_divide is deprecated, and will be removed in a future version of pytorch. It currently rounds toward 0 (like the 'trunc' function NOT 'floor'). This results in incorrect rounding for negative values.\n",
      "To keep the current behavior, use torch.div(a, b, rounding_mode='trunc'), or for actual floor division, use torch.div(a, b, rounding_mode='floor'). (Triggered internally at  ../aten/src/ATen/native/BinaryOps.cpp:467.)\n",
      "  return torch.floor_divide(self, other)\n",
      "Generating: 100%|██████████████████████████████████████████████████| 105/105 [01:56<00:00,  1.11s/it]\n"
     ]
    },
    {
     "name": "stdout",
     "output_type": "stream",
     "text": [
      "\n",
      "\n",
      "\n",
      "rouge-1:\tP: 13.4676\tR: 14.1793\tF1: 13.2597\n",
      "rouge-2:\tP: 6.1735\tR: 6.6761\tF1: 6.1359\n",
      "rouge-3:\tP: 3.5968\tR: 4.0101\tF1: 3.6105\n",
      "rouge-4:\tP: 2.0095\tR: 2.3155\tF1: 2.0354\n",
      "rouge-l:\tP: 13.1440\tR: 13.7600\tF1: 13.0556\n",
      "rouge-w:\tP: 10.1197\tR: 6.4650\tF1: 7.5375\n",
      "\n",
      "\n",
      "\n"
     ]
    }
   ],
   "source": [
    "scores = model.evaluate(source=\"test\", dump_pred=model.args.dump_pred)"
   ]
  },
  {
   "cell_type": "code",
   "execution_count": 4,
   "id": "5f2f34dc",
   "metadata": {},
   "outputs": [],
   "source": [
    "import json\n",
    "summarys = {}\n",
    "f_gold = json.load(open(\"./data/dialogsum/clean_data/test.json\", \"r\"))\n",
    "for di, data in enumerate(f_gold):\n",
    "    summarys[data[\"id\"]] = data[\"summary\"].strip().replace(\"\\n\", \" \").replace(\"\\015\", \"\")"
   ]
  },
  {
   "cell_type": "code",
   "execution_count": 5,
   "id": "6d38e4d1",
   "metadata": {},
   "outputs": [],
   "source": [
    "f_pred_bart_single = json.load(open(os.path.join(model.args.output_dir, \"test.pred.summary{}.json\".format(model.args.add_name)), \"r\"))\n",
    "update_pred = {}\n",
    "for item_id, item in f_pred_bart_single.items():\n",
    "    ID, turn = item_id.rsplit(\"#\", 1)\n",
    "    if ID not in update_pred.keys():\n",
    "        update_pred[ID] = {}\n",
    "    update_pred[ID][turn] = item\n"
   ]
  },
  {
   "cell_type": "code",
   "execution_count": 6,
   "id": "4678946b",
   "metadata": {},
   "outputs": [],
   "source": [
    "from hf_train_bart import SequenceMatcher\n",
    "\n",
    "final_full_pred = {}\n",
    "for ID, value in update_pred.items():\n",
    "    final_full_pred[ID] = []\n",
    "    for t in range(len(value)):\n",
    "        if t == 0:\n",
    "            final_full_pred[ID].append(value[str(t)])\n",
    "        else:\n",
    "            similar_score_max = max([SequenceMatcher(None, s, value[str(t)]).ratio() for s in final_full_pred[ID]])\n",
    "            if similar_score_max < 0.75:\n",
    "                final_full_pred[ID].append(value[str(t)])\n"
   ]
  },
  {
   "cell_type": "code",
   "execution_count": 25,
   "id": "7512ec1a",
   "metadata": {},
   "outputs": [],
   "source": [
    "test_summary = []\n",
    "test_prediction = []\n",
    "for ID, value in final_full_pred.items():\n",
    "    test_summary.append(summarys[ID])\n",
    "    test_prediction.append(\" \".join(value))"
   ]
  },
  {
   "cell_type": "code",
   "execution_count": 27,
   "id": "4d3172d9",
   "metadata": {},
   "outputs": [],
   "source": [
    "import rouge\n",
    "\n",
    "evaluator = rouge.Rouge(metrics=['rouge-n', 'rouge-l', 'rouge-w'],\n",
    "                        max_n=4,\n",
    "                        limit_length=True,\n",
    "                        length_limit=100,\n",
    "                        length_limit_type='words',\n",
    "                        apply_avg=False,\n",
    "                        apply_best=True,\n",
    "                        alpha=0.5, # Default F1_score\n",
    "                        weight_factor=1.2,\n",
    "                        stemming=True)\n",
    "\n",
    "scores = evaluator.get_scores(test_prediction, test_summary)"
   ]
  },
  {
   "cell_type": "code",
   "execution_count": 28,
   "id": "889030bc",
   "metadata": {},
   "outputs": [
    {
     "name": "stdout",
     "output_type": "stream",
     "text": [
      "rouge-1:\tP: 48.7539\tR: 48.2481\tF1: 46.7462\n",
      "rouge-2:\tP: 22.2641\tR: 22.2353\tF1: 21.3931\n",
      "rouge-3:\tP: 13.0559\tR: 13.1686\tF1: 12.5566\n",
      "rouge-4:\tP: 7.6753\tR: 7.8181\tF1: 7.3817\n",
      "rouge-l:\tP: 47.0230\tR: 46.5826\tF1: 45.5739\n",
      "rouge-w:\tP: 35.2023\tR: 20.0643\tF1: 24.4631\n"
     ]
    }
   ],
   "source": [
    "for metric, results in sorted(scores.items(), key=lambda x: x[0]):\n",
    "    print('{}:\\t{}: {:5.4f}\\t{}: {:5.4f}\\t{}: {:5.4f}'.format(metric, 'P', 100.0 * results['p'], 'R', 100.0 * results['r'], 'F1', 100.0 * results['f']))\n",
    "    "
   ]
  },
  {
   "cell_type": "code",
   "execution_count": 32,
   "id": "c97cb94a",
   "metadata": {},
   "outputs": [
    {
     "name": "stdout",
     "output_type": "stream",
     "text": [
      "#Person1# asks Ms. Dawson to take a dictation for #Person1# and asks her to prepare an intra-office memorandum to all employees by this afternoon.\n",
      "Ms. Dawson helps #Person1# to write a memo to inform every employee that they have to change the communication method and should not use Instant Messaging anymore.\n",
      "\n",
      "\n",
      "\n",
      "#Person2# got stuck in traffic again. #Person1# advises #Person2# to start biking.\n",
      "#Person2# arrives late because of traffic jam. #Person1# persuades #Person2# to use public transportations to keep healthy and to protect the environment.\n",
      "\n",
      "\n",
      "\n",
      "#Person1# tells Kate that Masha and Hero are getting divorced. #Person1# thinks they are the perfect couple and they will divorce early.\n",
      "#Person1# tells Kate that Masha and Hero get divorced. Kate is surprised because she thought they are perfect couple.\n",
      "\n",
      "\n",
      "\n",
      "#Person1# wishes Brian a happy birthday. They will have a drink together to celebrate.\n",
      "#Person1# and Brian are at the birthday party of Brian. Brian thinks #Person1# looks great and is popular.\n",
      "\n",
      "\n",
      "\n",
      "#Person1# and #Person2# are in the Olympic Stadium and #Person2# tells #Person1# the whole stadium will be finished this June, including 50 seats.\n",
      "#Person1# is surprised at the Olympic Stadium'volume, capacity and interior setting to #Person1#.\n",
      "\n",
      "\n",
      "\n"
     ]
    }
   ],
   "source": [
    "for i in range(5):\n",
    "    print(test_prediction[i])\n",
    "    print(test_summary[i])\n",
    "    print('\\n\\n')"
   ]
  },
  {
   "cell_type": "code",
   "execution_count": null,
   "id": "77bdb90c",
   "metadata": {},
   "outputs": [],
   "source": []
  }
 ],
 "metadata": {
  "kernelspec": {
   "display_name": "Python 3",
   "language": "python",
   "name": "python3"
  },
  "language_info": {
   "codemirror_mode": {
    "name": "ipython",
    "version": 3
   },
   "file_extension": ".py",
   "mimetype": "text/x-python",
   "name": "python",
   "nbconvert_exporter": "python",
   "pygments_lexer": "ipython3",
   "version": "3.6.9"
  }
 },
 "nbformat": 4,
 "nbformat_minor": 5
}
