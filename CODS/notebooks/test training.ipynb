{
 "cells": [
  {
   "cell_type": "code",
   "execution_count": 1,
   "id": "7073f3e1",
   "metadata": {},
   "outputs": [
    {
     "name": "stderr",
     "output_type": "stream",
     "text": [
      "[nltk_data] Downloading package punkt to /home/tnguyen/nltk_data...\n",
      "[nltk_data]   Package punkt is already up-to-date!\n"
     ]
    }
   ],
   "source": [
    "from training import run_training\n",
    "import json\n",
    "import os\n",
    "\n",
    "new_dialogsum_path = 'data/new_dialogsum/new_clean_data'\n",
    "train_path = os.path.join(new_dialogsum_path, 'train.json')\n",
    "val_path = os.path.join(new_dialogsum_path, 'eval.json')\n",
    "test_path = os.path.join(new_dialogsum_path, 'test.json')\n",
    "\n",
    "def load_data(path):\n",
    "    with open(path, 'r') as file:\n",
    "        data = json.load(file)\n",
    "    \n",
    "    return data\n",
    "\n",
    "def write_n(path, n):\n",
    "    data = load_data(path)[:n]\n",
    "    data_path = 'data/mini_dialogsum'\n",
    "    file_name = path.split('/')[-1]\n",
    "    new_path = os.path.join(data_path, file_name)\n",
    "    with open(new_path, 'w') as file:\n",
    "        json.dump(data, file, indent=4)\n",
    "n=100\n",
    "write_n(train_path, n)\n",
    "write_n(val_path, n)\n",
    "write_n(test_path, n)"
   ]
  },
  {
   "cell_type": "code",
   "execution_count": 2,
   "id": "5935fa9c",
   "metadata": {},
   "outputs": [],
   "source": [
    "model_name = \"Salesforce/bart-large-xsum-samsum\"\n",
    "data_path = 'data/mini_dialogsum'\n",
    "train_path = os.path.join(data_path, 'train.json')\n",
    "val_path = os.path.join(data_path, 'eval.json')\n",
    "test_path = os.path.join(data_path, 'test.json')\n",
    "batch_size = 2\n",
    "\n",
    "class Args:\n",
    "    do_segment = True\n",
    "    do_train = True\n",
    "    output_dir='save/mini_dialogsum_test_2'\n",
    "    use_pred_segment = False\n",
    "    train_file_path = train_path\n",
    "    dev_file_path = val_path\n",
    "    oracle_functurn_context = False\n",
    "    source_max_len = 512\n",
    "    gen_keyphrase_summary = True\n",
    "    target_max_len = 50\n",
    "    add_module_loss = False\n",
    "    add_functurn_loss = False\n",
    "    train_batch_size = batch_size\n",
    "    gradient_accumulation_steps = 1\n",
    "    num_train_epochs = 2\n",
    "    warmup_proportion = 0.1\n",
    "    patience = 30\n",
    "    model_name = \"Salesforce/bart-large-xsum-samsum\"\n",
    "    max_grad_norm = 1.0\n",
    "    validation_timing = 1\n",
    "    eval_batch_size = batch_size\n",
    "    no_repeat_ngram_size = 0\n",
    "    beam = 4\n",
    "    test_target_max_len = 50\n",
    "    wandb = False\n",
    "    learning_rate = 5e-5\n",
    "    adam_epsilon = 1e-8\n",
    "    load_path = None\n",
    "    module_loss = False\n",
    "    seed = 42\n",
    "args = Args()"
   ]
  },
  {
   "cell_type": "code",
   "execution_count": 3,
   "id": "3ffa3223",
   "metadata": {},
   "outputs": [
    {
     "name": "stderr",
     "output_type": "stream",
     "text": [
      "DEBUG:urllib3.connectionpool:Starting new HTTPS connection (1): huggingface.co:443\n",
      "DEBUG:urllib3.connectionpool:https://huggingface.co:443 \"HEAD /Salesforce/bart-large-xsum-samsum/resolve/main/config.json HTTP/1.1\" 200 0\n",
      "DEBUG:urllib3.connectionpool:Starting new HTTPS connection (1): huggingface.co:443\n",
      "DEBUG:urllib3.connectionpool:https://huggingface.co:443 \"HEAD /Salesforce/bart-large-xsum-samsum/resolve/main/pytorch_model.bin HTTP/1.1\" 302 0\n",
      "DEBUG:urllib3.connectionpool:Starting new HTTPS connection (1): huggingface.co:443\n",
      "DEBUG:urllib3.connectionpool:https://huggingface.co:443 \"HEAD /Salesforce/bart-large-xsum-samsum/resolve/main/vocab.json HTTP/1.1\" 200 0\n",
      "DEBUG:urllib3.connectionpool:Starting new HTTPS connection (1): huggingface.co:443\n",
      "DEBUG:urllib3.connectionpool:https://huggingface.co:443 \"HEAD /Salesforce/bart-large-xsum-samsum/resolve/main/merges.txt HTTP/1.1\" 200 0\n",
      "DEBUG:urllib3.connectionpool:Starting new HTTPS connection (1): huggingface.co:443\n",
      "DEBUG:urllib3.connectionpool:https://huggingface.co:443 \"HEAD /Salesforce/bart-large-xsum-samsum/resolve/main/added_tokens.json HTTP/1.1\" 404 0\n",
      "DEBUG:urllib3.connectionpool:Starting new HTTPS connection (1): huggingface.co:443\n",
      "DEBUG:urllib3.connectionpool:https://huggingface.co:443 \"HEAD /Salesforce/bart-large-xsum-samsum/resolve/main/special_tokens_map.json HTTP/1.1\" 200 0\n",
      "DEBUG:urllib3.connectionpool:Starting new HTTPS connection (1): huggingface.co:443\n",
      "DEBUG:urllib3.connectionpool:https://huggingface.co:443 \"HEAD /Salesforce/bart-large-xsum-samsum/resolve/main/tokenizer_config.json HTTP/1.1\" 200 0\n",
      "DEBUG:urllib3.connectionpool:Starting new HTTPS connection (1): huggingface.co:443\n",
      "DEBUG:urllib3.connectionpool:https://huggingface.co:443 \"HEAD /Salesforce/bart-large-xsum-samsum/resolve/main/config.json HTTP/1.1\" 200 0\n"
     ]
    },
    {
     "name": "stdout",
     "output_type": "stream",
     "text": [
      "[INFO] Start training ...\n",
      "[WARNING] save/mini_dialogsum_test_2 exists...\n",
      "Overwrite? [y/n]y\n"
     ]
    },
    {
     "name": "stderr",
     "output_type": "stream",
     "text": [
      "Examples: 100%|██████████| 169/169 [00:00<00:00, 443.78it/s]\n"
     ]
    },
    {
     "name": "stdout",
     "output_type": "stream",
     "text": [
      "[INFO] max_target_len 0\n"
     ]
    },
    {
     "name": "stderr",
     "output_type": "stream",
     "text": [
      "Examples: 100%|██████████| 141/141 [00:00<00:00, 479.64it/s]\n",
      "/home/tnguyen/dialogue-text-summarization-dokument/.venv/lib/python3.6/site-packages/transformers/optimization.py:309: FutureWarning: This implementation of AdamW is deprecated and will be removed in a future version. Use the PyTorch implementation torch.optim.AdamW instead, or set `no_deprecation_warning=True` to disable this warning\n",
      "  FutureWarning,\n",
      "INFO:training:***** Running training *****\n",
      "INFO:training:  Num examples = 169\n",
      "INFO:training:  Batch size = 2\n",
      "INFO:training:  Num steps = 169\n"
     ]
    },
    {
     "name": "stdout",
     "output_type": "stream",
     "text": [
      "[INFO] max_target_len 0\n"
     ]
    },
    {
     "name": "stderr",
     "output_type": "stream",
     "text": [
      "Epoch:   0%|          | 0/2 [00:00<?, ?it/s]\n",
      "Iteration:   0%|          | 0/85 [00:00<?, ?it/s]\u001b[A\n",
      "Iteration:   1%|          | 1/85 [00:00<00:12,  6.69it/s]\u001b[A\n",
      "Iteration:   2%|▏         | 2/85 [00:00<00:14,  5.91it/s]\u001b[A\n",
      "Iteration:   4%|▎         | 3/85 [00:00<00:15,  5.42it/s]\u001b[A\n",
      "Iteration:   5%|▍         | 4/85 [00:00<00:16,  5.02it/s]\u001b[A\n",
      "Iteration:   6%|▌         | 5/85 [00:00<00:16,  4.86it/s]\u001b[A\n",
      "Iteration:   7%|▋         | 6/85 [00:01<00:15,  5.12it/s]\u001b[A\n",
      "Iteration:   8%|▊         | 7/85 [00:01<00:15,  5.04it/s]\u001b[A\n",
      "Iteration:   9%|▉         | 8/85 [00:01<00:16,  4.63it/s]\u001b[A\n",
      "Iteration:  11%|█         | 9/85 [00:01<00:15,  4.79it/s]\u001b[A\n",
      "Iteration:  12%|█▏        | 10/85 [00:01<00:15,  4.99it/s]\u001b[A\n",
      "Iteration:  13%|█▎        | 11/85 [00:02<00:14,  4.93it/s]\u001b[A\n",
      "Iteration:  14%|█▍        | 12/85 [00:02<00:14,  4.90it/s]\u001b[A\n",
      "Iteration:  15%|█▌        | 13/85 [00:02<00:14,  4.82it/s]\u001b[A\n",
      "Iteration:  16%|█▋        | 14/85 [00:02<00:14,  4.76it/s]\u001b[A\n",
      "Iteration:  18%|█▊        | 15/85 [00:03<00:14,  4.84it/s]\u001b[A\n",
      "Iteration:  19%|█▉        | 16/85 [00:03<00:14,  4.76it/s]\u001b[A\n",
      "Iteration:  20%|██        | 17/85 [00:03<00:14,  4.78it/s]\u001b[A\n",
      "Iteration:  21%|██        | 18/85 [00:03<00:13,  5.01it/s]\u001b[A\n",
      "Iteration:  22%|██▏       | 19/85 [00:03<00:12,  5.26it/s]\u001b[A\n",
      "Iteration:  24%|██▎       | 20/85 [00:03<00:12,  5.35it/s]\u001b[A\n",
      "Iteration:  25%|██▍       | 21/85 [00:04<00:11,  5.37it/s]\u001b[A\n",
      "Iteration:  26%|██▌       | 22/85 [00:04<00:11,  5.36it/s]\u001b[A\n",
      "Iteration:  27%|██▋       | 23/85 [00:04<00:11,  5.40it/s]\u001b[A\n",
      "Iteration:  28%|██▊       | 24/85 [00:04<00:11,  5.39it/s]\u001b[A\n",
      "Iteration:  29%|██▉       | 25/85 [00:04<00:11,  5.29it/s]\u001b[A\n",
      "Iteration:  31%|███       | 26/85 [00:05<00:10,  5.37it/s]\u001b[A\n",
      "Iteration:  32%|███▏      | 27/85 [00:05<00:10,  5.44it/s]\u001b[A\n",
      "Iteration:  33%|███▎      | 28/85 [00:05<00:10,  5.43it/s]\u001b[A\n",
      "Iteration:  34%|███▍      | 29/85 [00:05<00:10,  5.38it/s]\u001b[A\n",
      "Iteration:  35%|███▌      | 30/85 [00:05<00:10,  5.41it/s]\u001b[A\n",
      "Iteration:  36%|███▋      | 31/85 [00:06<00:10,  5.26it/s]\u001b[A\n",
      "Iteration:  38%|███▊      | 32/85 [00:06<00:10,  4.89it/s]\u001b[A\n",
      "Iteration:  39%|███▉      | 33/85 [00:06<00:11,  4.69it/s]\u001b[A\n",
      "Iteration:  40%|████      | 34/85 [00:06<00:10,  4.83it/s]\u001b[A\n",
      "Iteration:  41%|████      | 35/85 [00:06<00:10,  4.65it/s]\u001b[A\n",
      "Iteration:  42%|████▏     | 36/85 [00:07<00:10,  4.53it/s]\u001b[A\n",
      "Iteration:  44%|████▎     | 37/85 [00:07<00:10,  4.70it/s]\u001b[A\n",
      "Iteration:  45%|████▍     | 38/85 [00:07<00:09,  4.76it/s]\u001b[A\n",
      "Iteration:  46%|████▌     | 39/85 [00:07<00:09,  4.95it/s]\u001b[A\n",
      "Iteration:  47%|████▋     | 40/85 [00:07<00:09,  4.99it/s]\u001b[A\n",
      "Iteration:  48%|████▊     | 41/85 [00:08<00:09,  4.80it/s]\u001b[A\n",
      "Iteration:  49%|████▉     | 42/85 [00:08<00:09,  4.67it/s]\u001b[A\n",
      "Iteration:  51%|█████     | 43/85 [00:08<00:09,  4.51it/s]\u001b[A\n",
      "Iteration:  52%|█████▏    | 44/85 [00:08<00:08,  4.79it/s]\u001b[A\n",
      "Iteration:  53%|█████▎    | 45/85 [00:08<00:07,  5.00it/s]\u001b[A\n",
      "Iteration:  54%|█████▍    | 46/85 [00:09<00:07,  5.10it/s]\u001b[A\n",
      "Iteration:  55%|█████▌    | 47/85 [00:09<00:07,  4.97it/s]\u001b[A\n",
      "Iteration:  56%|█████▋    | 48/85 [00:09<00:07,  4.93it/s]\u001b[A\n",
      "Iteration:  58%|█████▊    | 49/85 [00:09<00:07,  4.95it/s]\u001b[A\n",
      "Iteration:  59%|█████▉    | 50/85 [00:10<00:07,  4.87it/s]\u001b[A"
     ]
    },
    {
     "name": "stdout",
     "output_type": "stream",
     "text": [
      "loss: 4.625111103057861 [step: 49]\n"
     ]
    },
    {
     "name": "stderr",
     "output_type": "stream",
     "text": [
      "\n",
      "Iteration:  60%|██████    | 51/85 [00:10<00:06,  5.11it/s]\u001b[A\n",
      "Iteration:  61%|██████    | 52/85 [00:10<00:06,  5.36it/s]\u001b[A\n",
      "Iteration:  62%|██████▏   | 53/85 [00:10<00:05,  5.61it/s]\u001b[A\n",
      "Iteration:  64%|██████▎   | 54/85 [00:10<00:05,  5.69it/s]\u001b[A\n",
      "Iteration:  65%|██████▍   | 55/85 [00:10<00:05,  5.58it/s]\u001b[A\n",
      "Iteration:  66%|██████▌   | 56/85 [00:11<00:05,  5.58it/s]\u001b[A\n",
      "Iteration:  67%|██████▋   | 57/85 [00:11<00:04,  5.87it/s]\u001b[A\n",
      "Iteration:  68%|██████▊   | 58/85 [00:11<00:04,  5.68it/s]\u001b[A\n",
      "Iteration:  69%|██████▉   | 59/85 [00:11<00:04,  5.33it/s]\u001b[A\n",
      "Iteration:  71%|███████   | 60/85 [00:11<00:04,  5.62it/s]\u001b[A\n",
      "Iteration:  72%|███████▏  | 61/85 [00:11<00:04,  5.78it/s]\u001b[A\n",
      "Iteration:  73%|███████▎  | 62/85 [00:12<00:04,  5.61it/s]\u001b[A\n",
      "Iteration:  74%|███████▍  | 63/85 [00:12<00:03,  5.57it/s]\u001b[A\n",
      "Iteration:  75%|███████▌  | 64/85 [00:12<00:03,  5.46it/s]\u001b[A\n",
      "Iteration:  76%|███████▋  | 65/85 [00:12<00:03,  5.12it/s]\u001b[A\n",
      "Iteration:  78%|███████▊  | 66/85 [00:12<00:03,  5.26it/s]\u001b[A\n",
      "Iteration:  79%|███████▉  | 67/85 [00:13<00:03,  5.40it/s]\u001b[A\n",
      "Iteration:  80%|████████  | 68/85 [00:13<00:03,  5.44it/s]\u001b[A\n",
      "Iteration:  81%|████████  | 69/85 [00:13<00:02,  5.51it/s]\u001b[A\n",
      "Iteration:  82%|████████▏ | 70/85 [00:13<00:02,  5.30it/s]\u001b[A\n",
      "Iteration:  84%|████████▎ | 71/85 [00:13<00:02,  5.04it/s]\u001b[A\n",
      "Iteration:  85%|████████▍ | 72/85 [00:14<00:02,  5.17it/s]\u001b[A\n",
      "Iteration:  86%|████████▌ | 73/85 [00:14<00:02,  5.25it/s]\u001b[A\n",
      "Iteration:  87%|████████▋ | 74/85 [00:14<00:02,  5.29it/s]\u001b[A\n",
      "Iteration:  88%|████████▊ | 75/85 [00:14<00:01,  5.38it/s]\u001b[A\n",
      "Iteration:  89%|████████▉ | 76/85 [00:14<00:01,  5.36it/s]\u001b[A\n",
      "Iteration:  91%|█████████ | 77/85 [00:14<00:01,  5.33it/s]\u001b[A\n",
      "Iteration:  92%|█████████▏| 78/85 [00:15<00:01,  5.19it/s]\u001b[A\n",
      "Iteration:  93%|█████████▎| 79/85 [00:15<00:01,  5.20it/s]\u001b[A\n",
      "Iteration:  94%|█████████▍| 80/85 [00:15<00:00,  5.34it/s]\u001b[A\n",
      "Iteration:  95%|█████████▌| 81/85 [00:15<00:00,  5.33it/s]\u001b[A\n",
      "Iteration:  96%|█████████▋| 82/85 [00:15<00:00,  5.70it/s]\u001b[A\n",
      "Iteration:  98%|█████████▊| 83/85 [00:16<00:00,  5.36it/s]\u001b[A\n",
      "Iteration:  99%|█████████▉| 84/85 [00:16<00:00,  5.01it/s]\u001b[A\n",
      "Iteration: 100%|██████████| 85/85 [00:16<00:00,  5.16it/s]\u001b[A\n"
     ]
    },
    {
     "name": "stdout",
     "output_type": "stream",
     "text": [
      "epoch 0 avg. loss: 4.931191831476548\n",
      "\n"
     ]
    },
    {
     "name": "stderr",
     "output_type": "stream",
     "text": [
      "\n",
      "Generating:   0%|          | 0/71 [00:01<?, ?it/s]\u001b[A\n",
      "Epoch:   0%|          | 0/2 [00:17<?, ?it/s]\n"
     ]
    },
    {
     "ename": "AttributeError",
     "evalue": "'str' object has no attribute 'item'",
     "output_type": "error",
     "traceback": [
      "\u001b[0;31m---------------------------------------------------------------------------\u001b[0m",
      "\u001b[0;31mAttributeError\u001b[0m                            Traceback (most recent call last)",
      "\u001b[0;32m<ipython-input-3-ba04873d38dc>\u001b[0m in \u001b[0;36m<module>\u001b[0;34m\u001b[0m\n\u001b[0;32m----> 1\u001b[0;31m \u001b[0mmodel\u001b[0m \u001b[0;34m=\u001b[0m \u001b[0mrun_training\u001b[0m\u001b[0;34m(\u001b[0m\u001b[0margs\u001b[0m\u001b[0;34m)\u001b[0m\u001b[0;34m\u001b[0m\u001b[0;34m\u001b[0m\u001b[0m\n\u001b[0m",
      "\u001b[0;32m~/dialogue-text-summarization-dokument/CODS/training.py\u001b[0m in \u001b[0;36mrun_training\u001b[0;34m(args)\u001b[0m\n\u001b[1;32m    263\u001b[0m \u001b[0;34m\u001b[0m\u001b[0m\n\u001b[1;32m    264\u001b[0m     \u001b[0mprint\u001b[0m\u001b[0;34m(\u001b[0m\u001b[0;34m\"[INFO] Start training ...\"\u001b[0m\u001b[0;34m)\u001b[0m\u001b[0;34m\u001b[0m\u001b[0;34m\u001b[0m\u001b[0m\n\u001b[0;32m--> 265\u001b[0;31m     \u001b[0mtrain\u001b[0m\u001b[0;34m(\u001b[0m\u001b[0mmodel\u001b[0m\u001b[0;34m,\u001b[0m \u001b[0margs\u001b[0m\u001b[0;34m)\u001b[0m\u001b[0;34m\u001b[0m\u001b[0;34m\u001b[0m\u001b[0m\n\u001b[0m\u001b[1;32m    266\u001b[0m     \u001b[0mparams\u001b[0m\u001b[0;34m[\u001b[0m\u001b[0;34m'load_path'\u001b[0m\u001b[0;34m]\u001b[0m \u001b[0;34m=\u001b[0m \u001b[0mos\u001b[0m\u001b[0;34m.\u001b[0m\u001b[0mpath\u001b[0m\u001b[0;34m.\u001b[0m\u001b[0mjoin\u001b[0m\u001b[0;34m(\u001b[0m\u001b[0margs\u001b[0m\u001b[0;34m.\u001b[0m\u001b[0moutput_dir\u001b[0m\u001b[0;34m,\u001b[0m \u001b[0;34m'pytorch.bin'\u001b[0m\u001b[0;34m)\u001b[0m\u001b[0;34m\u001b[0m\u001b[0;34m\u001b[0m\u001b[0m\n\u001b[1;32m    267\u001b[0m \u001b[0;34m\u001b[0m\u001b[0m\n",
      "\u001b[0;32m~/dialogue-text-summarization-dokument/CODS/training.py\u001b[0m in \u001b[0;36mtrain\u001b[0;34m(model, args)\u001b[0m\n\u001b[1;32m    239\u001b[0m             patience, best_em, num_updates = check_accumulation_step(\n\u001b[1;32m    240\u001b[0m                 \u001b[0margs\u001b[0m\u001b[0;34m,\u001b[0m \u001b[0mstep\u001b[0m\u001b[0;34m,\u001b[0m \u001b[0mmodel\u001b[0m\u001b[0;34m,\u001b[0m \u001b[0moptimizer\u001b[0m\u001b[0;34m,\u001b[0m\u001b[0;34m\u001b[0m\u001b[0;34m\u001b[0m\u001b[0m\n\u001b[0;32m--> 241\u001b[0;31m                 \u001b[0mscheduler\u001b[0m\u001b[0;34m,\u001b[0m \u001b[0mnum_updates\u001b[0m\u001b[0;34m,\u001b[0m \u001b[0mf_log\u001b[0m\u001b[0;34m,\u001b[0m \u001b[0mdev_data\u001b[0m\u001b[0;34m,\u001b[0m \u001b[0mpatience\u001b[0m\u001b[0;34m,\u001b[0m \u001b[0mbest_em\u001b[0m\u001b[0;34m\u001b[0m\u001b[0;34m\u001b[0m\u001b[0m\n\u001b[0m\u001b[1;32m    242\u001b[0m             )\n\u001b[1;32m    243\u001b[0m \u001b[0;34m\u001b[0m\u001b[0m\n",
      "\u001b[0;32m~/dialogue-text-summarization-dokument/CODS/training.py\u001b[0m in \u001b[0;36mcheck_accumulation_step\u001b[0;34m(args, step, model, optimizer, scheduler, num_updates, f_log, dev_data, patience, best_em)\u001b[0m\n\u001b[1;32m     89\u001b[0m \u001b[0;34m\u001b[0m\u001b[0m\n\u001b[1;32m     90\u001b[0m         \u001b[0;32mif\u001b[0m \u001b[0mnum_updates\u001b[0m \u001b[0;34m%\u001b[0m \u001b[0margs\u001b[0m\u001b[0;34m.\u001b[0m\u001b[0mvalidation_timing\u001b[0m \u001b[0;34m==\u001b[0m \u001b[0;36m0\u001b[0m\u001b[0;34m:\u001b[0m\u001b[0;34m\u001b[0m\u001b[0;34m\u001b[0m\u001b[0m\n\u001b[0;32m---> 91\u001b[0;31m             \u001b[0mresults\u001b[0m \u001b[0;34m=\u001b[0m \u001b[0mevaluate\u001b[0m\u001b[0;34m(\u001b[0m\u001b[0margs\u001b[0m\u001b[0;34m,\u001b[0m \u001b[0mmodel\u001b[0m\u001b[0;34m,\u001b[0m \u001b[0mdev_data\u001b[0m\u001b[0;34m)\u001b[0m\u001b[0;34m\u001b[0m\u001b[0;34m\u001b[0m\u001b[0m\n\u001b[0m\u001b[1;32m     92\u001b[0m             \u001b[0mem\u001b[0m \u001b[0;34m=\u001b[0m \u001b[0mresults\u001b[0m\u001b[0;34m[\u001b[0m\u001b[0;34m'rouge-1'\u001b[0m\u001b[0;34m]\u001b[0m\u001b[0;34m[\u001b[0m\u001b[0;34m'f'\u001b[0m\u001b[0;34m]\u001b[0m\u001b[0;34m\u001b[0m\u001b[0;34m\u001b[0m\u001b[0m\n\u001b[1;32m     93\u001b[0m \u001b[0;34m\u001b[0m\u001b[0m\n",
      "\u001b[0;32m~/dialogue-text-summarization-dokument/CODS/evaluate.py\u001b[0m in \u001b[0;36mevaluate\u001b[0;34m(args, model, dev_data, source, dump_pred)\u001b[0m\n\u001b[1;32m    133\u001b[0m         \u001b[0mdev_examples\u001b[0m\u001b[0;34m,\u001b[0m \u001b[0mdev_features\u001b[0m \u001b[0;34m=\u001b[0m \u001b[0mdev_data\u001b[0m\u001b[0;34m\u001b[0m\u001b[0;34m\u001b[0m\u001b[0m\n\u001b[1;32m    134\u001b[0m \u001b[0;34m\u001b[0m\u001b[0m\n\u001b[0;32m--> 135\u001b[0;31m     \u001b[0mpred\u001b[0m\u001b[0;34m,\u001b[0m \u001b[0mpred_kp\u001b[0m \u001b[0;34m=\u001b[0m \u001b[0mpredict\u001b[0m\u001b[0;34m(\u001b[0m\u001b[0margs\u001b[0m\u001b[0;34m,\u001b[0m \u001b[0mmodel\u001b[0m\u001b[0;34m,\u001b[0m \u001b[0;34m(\u001b[0m\u001b[0mdev_examples\u001b[0m\u001b[0;34m,\u001b[0m \u001b[0mdev_features\u001b[0m\u001b[0;34m)\u001b[0m\u001b[0;34m)\u001b[0m\u001b[0;34m\u001b[0m\u001b[0;34m\u001b[0m\u001b[0m\n\u001b[0m\u001b[1;32m    136\u001b[0m     \u001b[0mscores\u001b[0m \u001b[0;34m=\u001b[0m \u001b[0mevaluate_rouge\u001b[0m\u001b[0;34m(\u001b[0m\u001b[0mdev_examples\u001b[0m\u001b[0;34m,\u001b[0m \u001b[0mpred\u001b[0m\u001b[0;34m)\u001b[0m\u001b[0;34m\u001b[0m\u001b[0;34m\u001b[0m\u001b[0m\n\u001b[1;32m    137\u001b[0m \u001b[0;34m\u001b[0m\u001b[0m\n",
      "\u001b[0;32m~/dialogue-text-summarization-dokument/CODS/evaluate.py\u001b[0m in \u001b[0;36mpredict\u001b[0;34m(args, model, dev_data)\u001b[0m\n\u001b[1;32m    105\u001b[0m         \u001b[0mdecoding_p2\u001b[0m \u001b[0;34m=\u001b[0m \u001b[0mdecoding_p2\u001b[0m\u001b[0;34m.\u001b[0m\u001b[0mto\u001b[0m\u001b[0;34m(\u001b[0m\u001b[0mCPU\u001b[0m\u001b[0;34m)\u001b[0m\u001b[0;34m\u001b[0m\u001b[0;34m\u001b[0m\u001b[0m\n\u001b[1;32m    106\u001b[0m         \u001b[0;32mfor\u001b[0m \u001b[0mi\u001b[0m \u001b[0;32min\u001b[0m \u001b[0mrange\u001b[0m\u001b[0;34m(\u001b[0m\u001b[0mlen\u001b[0m\u001b[0;34m(\u001b[0m\u001b[0mexample_indices\u001b[0m\u001b[0;34m)\u001b[0m\u001b[0;34m)\u001b[0m\u001b[0;34m:\u001b[0m\u001b[0;34m\u001b[0m\u001b[0;34m\u001b[0m\u001b[0m\n\u001b[0;32m--> 107\u001b[0;31m             \u001b[0mkey\u001b[0m \u001b[0;34m=\u001b[0m \u001b[0mIDs\u001b[0m\u001b[0;34m[\u001b[0m\u001b[0mi\u001b[0m\u001b[0;34m]\u001b[0m\u001b[0;34m.\u001b[0m\u001b[0mitem\u001b[0m\u001b[0;34m(\u001b[0m\u001b[0;34m)\u001b[0m\u001b[0;34m\u001b[0m\u001b[0;34m\u001b[0m\u001b[0m\n\u001b[0m\u001b[1;32m    108\u001b[0m             \u001b[0;32mif\u001b[0m \u001b[0mkey\u001b[0m \u001b[0;32min\u001b[0m \u001b[0mpred\u001b[0m\u001b[0;34m.\u001b[0m\u001b[0mkeys\u001b[0m\u001b[0;34m(\u001b[0m\u001b[0;34m)\u001b[0m\u001b[0;34m:\u001b[0m\u001b[0;34m\u001b[0m\u001b[0;34m\u001b[0m\u001b[0m\n\u001b[1;32m    109\u001b[0m                 \u001b[0;32mcontinue\u001b[0m\u001b[0;34m\u001b[0m\u001b[0;34m\u001b[0m\u001b[0m\n",
      "\u001b[0;31mAttributeError\u001b[0m: 'str' object has no attribute 'item'"
     ]
    }
   ],
   "source": [
    "model = run_training(args)"
   ]
  },
  {
   "cell_type": "code",
   "execution_count": 4,
   "id": "12386705",
   "metadata": {},
   "outputs": [
    {
     "ename": "NameError",
     "evalue": "name 'model' is not defined",
     "output_type": "error",
     "traceback": [
      "\u001b[0;31m---------------------------------------------------------------------------\u001b[0m",
      "\u001b[0;31mNameError\u001b[0m                                 Traceback (most recent call last)",
      "\u001b[0;32m<ipython-input-4-baafa8259a87>\u001b[0m in \u001b[0;36m<module>\u001b[0;34m\u001b[0m\n\u001b[0;32m----> 1\u001b[0;31m \u001b[0mweight_encoder_p2_k_proj\u001b[0m \u001b[0;34m=\u001b[0m \u001b[0mmodel\u001b[0m\u001b[0;34m.\u001b[0m\u001b[0mencoder_p2\u001b[0m\u001b[0;34m.\u001b[0m\u001b[0mself_attn\u001b[0m\u001b[0;34m.\u001b[0m\u001b[0mk_proj\u001b[0m\u001b[0;34m.\u001b[0m\u001b[0mweight\u001b[0m\u001b[0;34m\u001b[0m\u001b[0;34m\u001b[0m\u001b[0m\n\u001b[0m\u001b[1;32m      2\u001b[0m \u001b[0mweight_encoder_p1_k_proj\u001b[0m \u001b[0;34m=\u001b[0m \u001b[0mmodel\u001b[0m\u001b[0;34m.\u001b[0m\u001b[0mencoder_p1\u001b[0m\u001b[0;34m.\u001b[0m\u001b[0mself_attn\u001b[0m\u001b[0;34m.\u001b[0m\u001b[0mk_proj\u001b[0m\u001b[0;34m.\u001b[0m\u001b[0mweight\u001b[0m\u001b[0;34m\u001b[0m\u001b[0;34m\u001b[0m\u001b[0m\n\u001b[1;32m      3\u001b[0m \u001b[0mtorch\u001b[0m\u001b[0;34m.\u001b[0m\u001b[0mequal\u001b[0m\u001b[0;34m(\u001b[0m\u001b[0mweight_encoder_p1_k_proj\u001b[0m\u001b[0;34m,\u001b[0m \u001b[0mweight_encoder_p2_k_proj\u001b[0m\u001b[0;34m)\u001b[0m\u001b[0;34m\u001b[0m\u001b[0;34m\u001b[0m\u001b[0m\n",
      "\u001b[0;31mNameError\u001b[0m: name 'model' is not defined"
     ]
    }
   ],
   "source": [
    "weight_encoder_p2_k_proj = model.encoder_p2.self_attn.k_proj.weight\n",
    "weight_encoder_p1_k_proj = model.encoder_p1.self_attn.k_proj.weight\n",
    "torch.equal(weight_encoder_p1_k_proj, weight_encoder_p2_k_proj)"
   ]
  },
  {
   "cell_type": "code",
   "execution_count": null,
   "id": "e19201de",
   "metadata": {},
   "outputs": [],
   "source": []
  }
 ],
 "metadata": {
  "kernelspec": {
   "display_name": "Python 3",
   "language": "python",
   "name": "python3"
  },
  "language_info": {
   "codemirror_mode": {
    "name": "ipython",
    "version": 3
   },
   "file_extension": ".py",
   "mimetype": "text/x-python",
   "name": "python",
   "nbconvert_exporter": "python",
   "pygments_lexer": "ipython3",
   "version": "3.6.9"
  }
 },
 "nbformat": 4,
 "nbformat_minor": 5
}
