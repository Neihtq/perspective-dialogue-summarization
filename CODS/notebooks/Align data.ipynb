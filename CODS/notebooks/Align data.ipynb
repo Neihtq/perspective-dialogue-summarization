{
 "cells": [
  {
   "cell_type": "code",
   "execution_count": 1,
   "id": "419ee51d",
   "metadata": {},
   "outputs": [],
   "source": [
    "import os\n",
    "import json"
   ]
  },
  {
   "cell_type": "code",
   "execution_count": 2,
   "id": "dfee19f6",
   "metadata": {},
   "outputs": [],
   "source": [
    "def read_json(file):\n",
    "    json_arr = []\n",
    "    lines = file.readlines()\n",
    "    for line in lines:\n",
    "        jsn = json.loads(line)\n",
    "        new_json = {\n",
    "            'id': jsn['fname'],\n",
    "            'dialogue': jsn['dialogue'],\n",
    "            'summary': jsn['summary1'] if 'summary1' in jsn else jsn['summary']\n",
    "        }\n",
    "        json_arr.append(new_json)\n",
    "    return json_arr\n",
    "\n",
    "def align_dialogeusum_w_samsum(split):\n",
    "    path = os.path.join('./dialogsum/DialogSum_Data', f'{split}.jsonl')\n",
    "    with open(path, 'r') as file:\n",
    "        dialogues = read_json(file)\n",
    "        \n",
    "    out_path = os.path.join('./dialogsum/DialogSum_Data', f'{split}.json')\n",
    "    with open(out_path, 'w') as file:\n",
    "        json_str = json.dumps(dialogues)\n",
    "        file.write(json_str)\n",
    "    "
   ]
  },
  {
   "cell_type": "code",
   "execution_count": 9,
   "id": "b523c1be",
   "metadata": {},
   "outputs": [],
   "source": [
    "samsum_path = './samsum'\n",
    "samsum_test = os.path.join(samsum_path, 'test.json')\n",
    "with open(samsum_test, 'r') as json_file:\n",
    "    test = json.load(json_file)"
   ]
  },
  {
   "cell_type": "code",
   "execution_count": 10,
   "id": "9ae0d286",
   "metadata": {},
   "outputs": [],
   "source": [
    "dialogsum_train = os.path.join('./dialogsum/DialogSum_Data', 'train.jsonl')\n",
    "dialogsum_val = os.path.join('./dialogsum/DialogSum_Data', 'val.jsonl')\n",
    "dialogsum_test = os.path.join('./dialogsum/DialogSum_Data', 'test.jsonl')\n",
    "with open(dialogsum_train, 'r') as train, open(dialogsum_val, 'r') as val, open(dialogsum_test, 'r') as test:\n",
    "    dlg_train = read_json(train)\n",
    "    dlg_val = read_json(val)\n",
    "    dlg_test = read_json(test)"
   ]
  },
  {
   "cell_type": "code",
   "execution_count": 3,
   "id": "32251230",
   "metadata": {},
   "outputs": [],
   "source": [
    "for split in ['train', 'val', 'test']:\n",
    "    align_dialogeusum_w_samsum(split)"
   ]
  },
  {
   "cell_type": "code",
   "execution_count": 6,
   "id": "c950dfcc",
   "metadata": {},
   "outputs": [],
   "source": [
    "out_path = os.path.join('./dialogsum/DialogSum_Data', 'test.json')\n",
    "with open(out_path, 'r') as json_file:\n",
    "    test = json.load(json_file)"
   ]
  },
  {
   "cell_type": "code",
   "execution_count": 7,
   "id": "247c28f1",
   "metadata": {},
   "outputs": [
    {
     "data": {
      "text/plain": [
       "{'id': 'test_0',\n",
       " 'dialogue': \"#Person1#: Ms. Dawson, I need you to take a dictation for me.\\n#Person2#: Yes, sir...\\n#Person1#: This should go out as an intra-office memorandum to all employees by this afternoon. Are you ready?\\n#Person2#: Yes, sir. Go ahead.\\n#Person1#: Attention all staff... Effective immediately, all office communications are restricted to email correspondence and official memos. The use of Instant Message programs by employees during working hours is strictly prohibited.\\n#Person2#: Sir, does this apply to intra-office communications only? Or will it also restrict external communications?\\n#Person1#: It should apply to all communications, not only in this office between employees, but also any outside communications.\\n#Person2#: But sir, many employees use Instant Messaging to communicate with their clients.\\n#Person1#: They will just have to change their communication methods. I don't want any - one using Instant Messaging in this office. It wastes too much time! Now, please continue with the memo. Where were we?\\n#Person2#: This applies to internal and external communications.\\n#Person1#: Yes. Any employee who persists in using Instant Messaging will first receive a warning and be placed on probation. At second offense, the employee will face termination. Any questions regarding this new policy may be directed to department heads.\\n#Person2#: Is that all?\\n#Person1#: Yes. Please get this memo typed up and distributed to all employees before 4 pm.\",\n",
       " 'summary': 'Ms. Dawson helps #Person1# to write a memo to inform every employee that they have to change the communication method and should not use Instant Messaging anymore.'}"
      ]
     },
     "execution_count": 7,
     "metadata": {},
     "output_type": "execute_result"
    }
   ],
   "source": [
    "test[0]"
   ]
  },
  {
   "cell_type": "code",
   "execution_count": null,
   "id": "775333cf",
   "metadata": {},
   "outputs": [],
   "source": []
  }
 ],
 "metadata": {
  "kernelspec": {
   "display_name": "Python 3",
   "language": "python",
   "name": "python3"
  },
  "language_info": {
   "codemirror_mode": {
    "name": "ipython",
    "version": 3
   },
   "file_extension": ".py",
   "mimetype": "text/x-python",
   "name": "python",
   "nbconvert_exporter": "python",
   "pygments_lexer": "ipython3",
   "version": "3.8.12"
  }
 },
 "nbformat": 4,
 "nbformat_minor": 5
}
