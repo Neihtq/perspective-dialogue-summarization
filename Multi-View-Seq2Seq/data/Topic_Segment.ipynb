{
 "cells": [
  {
   "cell_type": "code",
   "execution_count": 17,
   "metadata": {},
   "outputs": [],
   "source": [
    "import uts\n",
    "import json\n",
    "import os\n",
    "import gensim\n",
    "\n",
    "from tqdm.notebook import tqdm"
   ]
  },
  {
   "cell_type": "code",
   "execution_count": 13,
   "metadata": {},
   "outputs": [],
   "source": [
    "data_folder = './dialogsum/DialogSum_Data/'\n",
    "train_path = os.path.join(data_folder, 'train_dialogsum.jsonl')\n",
    "dev_path = os.path.join(data_folder, 'val_dialogsum.jsonl')\n",
    "test_path = os.path.join(data_folder, 'test_dialogsum.jsonl')\n",
    "\n",
    "def read_json(file_path):\n",
    "    with open(file_path, 'r') as json_file:\n",
    "        data = json.load(json_file)\n",
    "    return data"
   ]
  },
  {
   "cell_type": "code",
   "execution_count": 14,
   "metadata": {},
   "outputs": [],
   "source": [
    "data_folder = './new_dialogsum/'\n",
    "train_path = os.path.join(data_folder, 'train.json')\n",
    "val_path = os.path.join(data_folder, 'val.json')\n",
    "test_path = os.path.join(data_folder, 'test.json')\n",
    "paths = [train_path, val_path, test_path]"
   ]
  },
  {
   "cell_type": "code",
   "execution_count": 18,
   "metadata": {},
   "outputs": [],
   "source": [
    "def remove_name(s):\n",
    "    temp = \"\"\n",
    "    flag = 0\n",
    "    for i in range(0, len(s)):\n",
    "        if s[i] == ':':\n",
    "            flag = 1\n",
    "            continue\n",
    "        if flag == 1:\n",
    "            temp += s[i]\n",
    "    return temp"
   ]
  },
  {
   "cell_type": "code",
   "execution_count": 19,
   "metadata": {},
   "outputs": [
    {
     "name": "stdout",
     "output_type": "stream",
     "text": [
      "./new_dialogsum/train.json\n"
     ]
    },
    {
     "data": {
      "application/vnd.jupyter.widget-view+json": {
       "model_id": "d0f26c760fe6432c8f88b89ce9f6b3b6",
       "version_major": 2,
       "version_minor": 0
      },
      "text/plain": [
       "  0%|          | 0/12333 [00:00<?, ?it/s]"
      ]
     },
     "metadata": {},
     "output_type": "display_data"
    },
    {
     "name": "stdout",
     "output_type": "stream",
     "text": [
      "./new_dialogsum/val.json\n"
     ]
    },
    {
     "data": {
      "application/vnd.jupyter.widget-view+json": {
       "model_id": "f75acd90ad5b4feaa5e3c94b5221437a",
       "version_major": 2,
       "version_minor": 0
      },
      "text/plain": [
       "  0%|          | 0/495 [00:00<?, ?it/s]"
      ]
     },
     "metadata": {},
     "output_type": "display_data"
    },
    {
     "name": "stdout",
     "output_type": "stream",
     "text": [
      "./new_dialogsum/test.json\n"
     ]
    },
    {
     "data": {
      "application/vnd.jupyter.widget-view+json": {
       "model_id": "5c486ef83b7a4f90ad3e5b060b7a488e",
       "version_major": 2,
       "version_minor": 0
      },
      "text/plain": [
       "  0%|          | 0/496 [00:00<?, ?it/s]"
      ]
     },
     "metadata": {},
     "output_type": "display_data"
    }
   ],
   "source": [
    "sent = []\n",
    "for path in paths:\n",
    "    print(path)\n",
    "    data = read_json(path)\n",
    "    for i in tqdm(range(len(data))):\n",
    "        if len(data[i]['dialogue'].split('\\r\\n')) > 1:\n",
    "            sentences = data[i]['dialogue'].split('\\r\\n')\n",
    "        else:\n",
    "            sentences = data[i]['dialogue'].split('\\n')\n",
    "        sent.append(sentences)"
   ]
  },
  {
   "cell_type": "code",
   "execution_count": 21,
   "metadata": {},
   "outputs": [
    {
     "data": {
      "application/vnd.jupyter.widget-view+json": {
       "model_id": "5def8eb7184646b9b9583e7bdb7ce760",
       "version_major": 2,
       "version_minor": 0
      },
      "text/plain": [
       "  0%|          | 0/13324 [00:00<?, ?it/s]"
      ]
     },
     "metadata": {},
     "output_type": "display_data"
    }
   ],
   "source": [
    "import string\n",
    "from nltk.tokenize import word_tokenize\n",
    "table = str.maketrans('', '', string.punctuation)\n",
    "sentences = []\n",
    "for i in tqdm(range(len(sent))):\n",
    "    for s in sent[i]:\n",
    "        temp_sent = remove_name(s)\n",
    "        tokens = word_tokenize(temp_sent)\n",
    "        tokens = [w.lower() for w in tokens]\n",
    "        stripped = [w.translate(table) for w in tokens]\n",
    "        sentences.append(stripped)"
   ]
  },
  {
   "cell_type": "code",
   "execution_count": 22,
   "metadata": {},
   "outputs": [],
   "source": [
    "from C99 import C99"
   ]
  },
  {
   "cell_type": "code",
   "execution_count": 14,
   "metadata": {},
   "outputs": [],
   "source": [
    "import pickle\n",
    "with open('./dialogsum/DialogSum_Data/train_dialogsum_sentence_transformer.pkl', 'rb') as f:\n",
    "    train = pickle.load(f)\n",
    "with open('./dialogsum/DialogSum_Data/val_dialogsum_sentence_transformer.pkl', 'rb') as f:\n",
    "    val = pickle.load(f)\n",
    "with open('./dialogsum/DialogSum_Data/test_dialogsum_sentence_transformer.pkl', 'rb') as f:\n",
    "    test = pickle.load(f)"
   ]
  },
  {
   "cell_type": "code",
   "execution_count": null,
   "metadata": {},
   "outputs": [],
   "source": []
  },
  {
   "cell_type": "code",
   "execution_count": 15,
   "metadata": {},
   "outputs": [],
   "source": [
    "def encode_convs(profix):\n",
    "    model = C99(window = 4, std_coeff = 1)\n",
    "    sent_label = []\n",
    "    with open(profix+\"_sentence_transformer.pkl\", 'rb') as f:\n",
    "        data = pickle.load(f)\n",
    "    for i in range(0, len(data)):\n",
    "        boundary = model.segment(data[i])\n",
    "        temp_labels = []\n",
    "        l = 0\n",
    "        for j in range(0, len(boundary)):\n",
    "            if boundary[j] == 1:\n",
    "                l += 1\n",
    "            temp_labels.append(l)\n",
    "        sent_label.append(temp_labels)\n",
    "    \n",
    "    with open(profix + '_sent_c99_label.pkl', 'wb') as f:\n",
    "        pickle.dump(sent_label, f)\n",
    "    \n",
    "    return sent_label"
   ]
  },
  {
   "cell_type": "code",
   "execution_count": 16,
   "metadata": {},
   "outputs": [],
   "source": [
    "l = encode_convs('./dialogsum/DialogSum_Data/train_dialogsum')"
   ]
  },
  {
   "cell_type": "code",
   "execution_count": 17,
   "metadata": {},
   "outputs": [],
   "source": [
    "l = encode_convs('./dialogsum/DialogSum_Data/val_dialogsum')"
   ]
  },
  {
   "cell_type": "code",
   "execution_count": 18,
   "metadata": {},
   "outputs": [],
   "source": [
    "l = encode_convs('./dialogsum/DialogSum_Data/test_dialogsum')"
   ]
  },
  {
   "cell_type": "code",
   "execution_count": 19,
   "metadata": {},
   "outputs": [
    {
     "name": "stdout",
     "output_type": "stream",
     "text": [
      "done\n"
     ]
    }
   ],
   "source": [
    "print('done')"
   ]
  },
  {
   "cell_type": "code",
   "execution_count": null,
   "metadata": {},
   "outputs": [],
   "source": []
  },
  {
   "cell_type": "code",
   "execution_count": null,
   "metadata": {},
   "outputs": [],
   "source": []
  }
 ],
 "metadata": {
  "kernelspec": {
   "display_name": "Python 3",
   "language": "python",
   "name": "python3"
  },
  "language_info": {
   "codemirror_mode": {
    "name": "ipython",
    "version": 3
   },
   "file_extension": ".py",
   "mimetype": "text/x-python",
   "name": "python",
   "nbconvert_exporter": "python",
   "pygments_lexer": "ipython3",
   "version": "3.6.9"
  }
 },
 "nbformat": 4,
 "nbformat_minor": 4
}
