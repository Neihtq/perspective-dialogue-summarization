{
 "cells": [
  {
   "cell_type": "code",
   "execution_count": 2,
   "metadata": {},
   "outputs": [],
   "source": [
    "import pickle\n",
    "import os\n",
    "\n",
    "data_folder = './dialogsum/DialogSum_Data/'\n",
    "train_path = os.path.join(data_folder, 'train_dialogsum_sentence_transformer.pkl')\n",
    "dev_path = os.path.join(data_folder, 'val_dialogsum_sentence_transformer.pkl')\n",
    "test_path = os.path.join(data_folder, 'test_dialogsum_sentence_transformer.pkl')\n",
    "\n",
    "\n",
    "with open(train_path, 'rb') as f:\n",
    "    train = pickle.load(f)\n",
    "with open(dev_path, 'rb') as f:\n",
    "    val = pickle.load(f)\n",
    "with open(test_path, 'rb') as f:\n",
    "    test = pickle.load(f)"
   ]
  },
  {
   "cell_type": "code",
   "execution_count": 4,
   "metadata": {},
   "outputs": [],
   "source": [
    "import json\n",
    "test_json_path = os.path.join(data_folder, 'test_dialogsum.jsonl')\n",
    "\n",
    "def read_json(file):\n",
    "    json_arr = []\n",
    "    lines = file.readlines()\n",
    "    for line in lines:\n",
    "        jsn = json.loads(line)\n",
    "        json_arr.append(jsn)\n",
    "    return json_arr\n",
    "\n",
    "with open(test_json_path, encoding = 'utf8') as json_file:\n",
    "    #data = json.load(json_file)\n",
    "    data = read_json(json_file)\n",
    "    \n",
    "conversations = []\n",
    "summaries = []\n",
    "for i in range(0, len(data)):\n",
    "    if len(data[i]['dialogue'].split('\\r\\n')) > 1:\n",
    "        sentences = data[i]['dialogue'].split('\\r\\n')\n",
    "    else:\n",
    "        sentences = data[i]['dialogue'].split('\\n')\n",
    "\n",
    "    conversations.append(sentences)\n",
    "    summaries.append(data[i]['summary1'].strip('\\n').replace('\\r\\nt', ' '))"
   ]
  },
  {
   "cell_type": "code",
   "execution_count": 3,
   "metadata": {},
   "outputs": [],
   "source": [
    "import numpy as np\n",
    "length = []\n",
    "for i in range(0, len(train)):\n",
    "    length.append(len(train[i]))\n",
    "for i in range(0, len(val)):\n",
    "    length.append(len(val[i]))\n",
    "for i in range(0, len(test)):\n",
    "    length.append(len(test[i]))\n",
    "X = []\n",
    "for i in range(0, len(train)):\n",
    "    for j in range(0, len(train[i])):\n",
    "        X.append(np.array(train[i][j]))\n",
    "for i in range(0, len(val)):\n",
    "    for j in range(0,len(val[i])):\n",
    "        X.append(np.array(val[i][j]))\n",
    "for i in range(0, len(test)):\n",
    "    for j in range(0, len(test[i])):\n",
    "        X.append(np.array(test[i][j]))"
   ]
  },
  {
   "cell_type": "code",
   "execution_count": 1,
   "metadata": {},
   "outputs": [
    {
     "ename": "ModuleNotFoundError",
     "evalue": "No module named 'hmmlearn'",
     "output_type": "error",
     "traceback": [
      "\u001b[0;31m---------------------------------------------------------------------------\u001b[0m",
      "\u001b[0;31mModuleNotFoundError\u001b[0m                       Traceback (most recent call last)",
      "\u001b[0;32m<ipython-input-1-16c29f744bfe>\u001b[0m in \u001b[0;36m<module>\u001b[0;34m\u001b[0m\n\u001b[0;32m----> 1\u001b[0;31m \u001b[0;32mfrom\u001b[0m \u001b[0mhmmlearn\u001b[0m \u001b[0;32mimport\u001b[0m \u001b[0mhmm\u001b[0m\u001b[0;34m\u001b[0m\u001b[0;34m\u001b[0m\u001b[0m\n\u001b[0m",
      "\u001b[0;31mModuleNotFoundError\u001b[0m: No module named 'hmmlearn'"
     ]
    }
   ],
   "source": [
    "from hmmlearn import hmm"
   ]
  },
  {
   "cell_type": "code",
   "execution_count": 6,
   "metadata": {},
   "outputs": [],
   "source": [
    "remodel = hmm.GaussianHMM(n_components=4, n_iter = 50, covariance_type = 'diag', verbose = True, init_params=\"cm\", params=\"cmts\")\n",
    "remodel.startprob_ = np.array([1, 0.0, 0.0, 0.0])\n",
    "remodel.transmat_ = np.array([\n",
    "                 [0.33, 0.34, 0.33, 0],\n",
    "                 [0.0, 0.33, 0.34, 0.33],\n",
    "                 [0.0, 0.0, 0.5, 0.5],\n",
    "                 [0.0, 0.0, 0.0, 1.0]]\n",
    "                            )"
   ]
  },
  {
   "cell_type": "code",
   "execution_count": 7,
   "metadata": {},
   "outputs": [
    {
     "data": {
      "text/plain": [
       "array([1., 0., 0., 0.])"
      ]
     },
     "execution_count": 7,
     "metadata": {},
     "output_type": "execute_result"
    }
   ],
   "source": [
    "remodel.startprob_"
   ]
  },
  {
   "cell_type": "code",
   "execution_count": 8,
   "metadata": {},
   "outputs": [
    {
     "data": {
      "text/plain": [
       "array([[0.33, 0.34, 0.33, 0.  ],\n",
       "       [0.  , 0.33, 0.34, 0.33],\n",
       "       [0.  , 0.  , 0.5 , 0.5 ],\n",
       "       [0.  , 0.  , 0.  , 1.  ]])"
      ]
     },
     "execution_count": 8,
     "metadata": {},
     "output_type": "execute_result"
    }
   ],
   "source": [
    "remodel.transmat_"
   ]
  },
  {
   "cell_type": "code",
   "execution_count": 9,
   "metadata": {},
   "outputs": [
    {
     "name": "stderr",
     "output_type": "stream",
     "text": [
      "         1   -67062215.8653             +nan\n",
      "         2   -64879878.7185    +2182337.1468\n",
      "         3   -64642016.4478     +237862.2707\n",
      "         4   -64399749.0050     +242267.4428\n",
      "         5   -64176896.5768     +222852.4281\n",
      "         6   -63993821.6084     +183074.9685\n",
      "         7   -63851722.1101     +142099.4982\n",
      "         8   -63759133.2361      +92588.8740\n",
      "         9   -63688370.8798      +70762.3564\n",
      "        10   -63633542.0864      +54828.7933\n",
      "        11   -63596281.9698      +37260.1166\n",
      "        12   -63572049.7863      +24232.1835\n",
      "        13   -63556781.4820      +15268.3043\n",
      "        14   -63545279.6087      +11501.8734\n",
      "        15   -63536326.7679       +8952.8408\n",
      "        16   -63529691.0704       +6635.6975\n",
      "        17   -63525005.9705       +4685.1000\n",
      "        18   -63521573.5301       +3432.4404\n",
      "        19   -63519148.4602       +2425.0699\n",
      "        20   -63516892.4305       +2256.0297\n",
      "        21   -63514825.2098       +2067.2207\n",
      "        22   -63512992.2279       +1832.9818\n",
      "        23   -63511340.8219       +1651.4061\n",
      "        24   -63510058.5322       +1282.2897\n",
      "        25   -63509012.8626       +1045.6696\n",
      "        26   -63507878.6801       +1134.1825\n",
      "        27   -63506750.4075       +1128.2726\n",
      "        28   -63505938.5526        +811.8548\n",
      "        29   -63505374.4084        +564.1442\n",
      "        30   -63504804.7275        +569.6810\n",
      "        31   -63504272.2964        +532.4311\n",
      "        32   -63503806.3519        +465.9445\n",
      "        33   -63503423.6778        +382.6742\n",
      "        34   -63503158.4384        +265.2394\n",
      "        35   -63502995.4086        +163.0298\n",
      "        36   -63502894.5434        +100.8652\n",
      "        37   -63502835.5253         +59.0181\n",
      "        38   -63502805.2499         +30.2753\n",
      "        39   -63502784.1890         +21.0609\n",
      "        40   -63502763.4758         +20.7132\n",
      "        41   -63502726.3216         +37.1542\n",
      "        42   -63502652.3598         +73.9618\n",
      "        43   -63502574.6986         +77.6612\n",
      "        44   -63502524.1102         +50.5884\n",
      "        45   -63502482.3366         +41.7736\n",
      "        46   -63502427.4441         +54.8925\n",
      "        47   -63502381.6992         +45.7449\n",
      "        48   -63502343.4715         +38.2277\n",
      "        49   -63502299.5800         +43.8915\n",
      "        50   -63502256.8737         +42.7063\n"
     ]
    },
    {
     "data": {
      "text/plain": [
       "GaussianHMM(init_params='cm', n_components=4, n_iter=50, params='cmts',\n",
       "            verbose=True)"
      ]
     },
     "execution_count": 9,
     "metadata": {},
     "output_type": "execute_result"
    }
   ],
   "source": [
    "remodel.fit(X, length)"
   ]
  },
  {
   "cell_type": "code",
   "execution_count": 10,
   "metadata": {},
   "outputs": [
    {
     "data": {
      "text/plain": [
       "array([[0.78158618, 0.10433682, 0.114077  , 0.        ],\n",
       "       [0.        , 0.18700873, 0.77957176, 0.0334195 ],\n",
       "       [0.        , 0.        , 0.9131403 , 0.0868597 ],\n",
       "       [0.        , 0.        , 0.        , 1.        ]])"
      ]
     },
     "execution_count": 10,
     "metadata": {},
     "output_type": "execute_result"
    }
   ],
   "source": [
    "remodel.transmat_"
   ]
  },
  {
   "cell_type": "code",
   "execution_count": 11,
   "metadata": {},
   "outputs": [
    {
     "data": {
      "text/plain": [
       "array([1., 0., 0., 0.])"
      ]
     },
     "execution_count": 11,
     "metadata": {},
     "output_type": "execute_result"
    }
   ],
   "source": [
    "remodel.startprob_"
   ]
  },
  {
   "cell_type": "code",
   "execution_count": 12,
   "metadata": {},
   "outputs": [
    {
     "data": {
      "text/plain": [
       "'./dialogsum/DialogSum_Data/test_dialogsum_sentence_transformer.pkl'"
      ]
     },
     "execution_count": 12,
     "metadata": {},
     "output_type": "execute_result"
    }
   ],
   "source": [
    "test_path"
   ]
  },
  {
   "cell_type": "code",
   "execution_count": 13,
   "metadata": {},
   "outputs": [],
   "source": [
    "def encode_convs(profix):\n",
    "    sent_label = []\n",
    "    with open(profix + '_sentence_transformer.pkl', 'rb') as f:\n",
    "        data = pickle.load(f)\n",
    "    for i in range(0, len(data)):\n",
    "        labels = remodel.decode(np.array(data[i]))[1]\n",
    "        sent_label.append(labels)\n",
    "    \n",
    "    with open(profix + '_sent_trans_cons_label_2.pkl', 'wb') as f:\n",
    "        pickle.dump(sent_label, f)\n",
    "    return sent_label"
   ]
  },
  {
   "cell_type": "code",
   "execution_count": 14,
   "metadata": {},
   "outputs": [],
   "source": [
    "l = encode_convs('./dialogsum/DialogSum_Data/train_dialogsum')"
   ]
  },
  {
   "cell_type": "code",
   "execution_count": 15,
   "metadata": {},
   "outputs": [],
   "source": [
    "l = encode_convs('./dialogsum/DialogSum_Data/val_dialogsum')"
   ]
  },
  {
   "cell_type": "code",
   "execution_count": 16,
   "metadata": {},
   "outputs": [],
   "source": [
    "l = encode_convs('./dialogsum/DialogSum_Data/test_dialogsum')"
   ]
  },
  {
   "cell_type": "code",
   "execution_count": 1,
   "metadata": {},
   "outputs": [
    {
     "ename": "NameError",
     "evalue": "name 'remodel' is not defined",
     "output_type": "error",
     "traceback": [
      "\u001b[0;31m---------------------------------------------------------------------------\u001b[0m",
      "\u001b[0;31mNameError\u001b[0m                                 Traceback (most recent call last)",
      "\u001b[0;32m<ipython-input-1-2091c3ffa61d>\u001b[0m in \u001b[0;36m<module>\u001b[0;34m\u001b[0m\n\u001b[1;32m      9\u001b[0m     \u001b[0mdata\u001b[0m \u001b[0;34m=\u001b[0m \u001b[0mpickle\u001b[0m\u001b[0;34m.\u001b[0m\u001b[0mload\u001b[0m\u001b[0;34m(\u001b[0m\u001b[0mf\u001b[0m\u001b[0;34m)\u001b[0m\u001b[0;34m\u001b[0m\u001b[0;34m\u001b[0m\u001b[0m\n\u001b[1;32m     10\u001b[0m \u001b[0;32mfor\u001b[0m \u001b[0mi\u001b[0m \u001b[0;32min\u001b[0m \u001b[0mrange\u001b[0m\u001b[0;34m(\u001b[0m\u001b[0;36m0\u001b[0m\u001b[0;34m,\u001b[0m \u001b[0mlen\u001b[0m\u001b[0;34m(\u001b[0m\u001b[0mdata\u001b[0m\u001b[0;34m)\u001b[0m\u001b[0;34m)\u001b[0m\u001b[0;34m:\u001b[0m\u001b[0;34m\u001b[0m\u001b[0;34m\u001b[0m\u001b[0m\n\u001b[0;32m---> 11\u001b[0;31m     \u001b[0mlabels\u001b[0m \u001b[0;34m=\u001b[0m \u001b[0mremodel\u001b[0m\u001b[0;34m.\u001b[0m\u001b[0mdecode\u001b[0m\u001b[0;34m(\u001b[0m\u001b[0mnp\u001b[0m\u001b[0;34m.\u001b[0m\u001b[0marray\u001b[0m\u001b[0;34m(\u001b[0m\u001b[0mdata\u001b[0m\u001b[0;34m[\u001b[0m\u001b[0mi\u001b[0m\u001b[0;34m]\u001b[0m\u001b[0;34m)\u001b[0m\u001b[0;34m)\u001b[0m\u001b[0;34m[\u001b[0m\u001b[0;36m1\u001b[0m\u001b[0;34m]\u001b[0m\u001b[0;34m\u001b[0m\u001b[0;34m\u001b[0m\u001b[0m\n\u001b[0m\u001b[1;32m     12\u001b[0m     \u001b[0msent_label\u001b[0m\u001b[0;34m.\u001b[0m\u001b[0mappend\u001b[0m\u001b[0;34m(\u001b[0m\u001b[0mlabels\u001b[0m\u001b[0;34m)\u001b[0m\u001b[0;34m\u001b[0m\u001b[0;34m\u001b[0m\u001b[0m\n\u001b[1;32m     13\u001b[0m \u001b[0;34m\u001b[0m\u001b[0m\n",
      "\u001b[0;31mNameError\u001b[0m: name 'remodel' is not defined"
     ]
    }
   ],
   "source": [
    "import pickle\n",
    "import os\n",
    "import json\n",
    "import numpy as np\n",
    "\n",
    "profix = './dialogsum/DialogSum_Data/val_dialogsum'\n",
    "sent_label = []\n",
    "with open(profix + '_sentence_transformer.pkl', 'rb') as f:\n",
    "    data = pickle.load(f)\n",
    "for i in range(0, len(data)):\n",
    "    labels = remodel.decode(np.array(data[i]))[1]\n",
    "    sent_label.append(labels)\n",
    "\n",
    "#with open(profix + '_sent_trans_cons_label_2.pkl', 'wb') as f:\n",
    "#    pickle.dump(sent_label, f)"
   ]
  }
 ],
 "metadata": {
  "kernelspec": {
   "display_name": "Python 3",
   "language": "python",
   "name": "python3"
  },
  "language_info": {
   "codemirror_mode": {
    "name": "ipython",
    "version": 3
   },
   "file_extension": ".py",
   "mimetype": "text/x-python",
   "name": "python",
   "nbconvert_exporter": "python",
   "pygments_lexer": "ipython3",
   "version": "3.6.9"
  }
 },
 "nbformat": 4,
 "nbformat_minor": 4
}
