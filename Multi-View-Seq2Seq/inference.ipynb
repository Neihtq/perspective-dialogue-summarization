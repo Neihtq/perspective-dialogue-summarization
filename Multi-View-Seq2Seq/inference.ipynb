{
 "cells": [
  {
   "cell_type": "code",
   "execution_count": 2,
   "id": "befbe7fb",
   "metadata": {},
   "outputs": [
    {
     "name": "stdout",
     "output_type": "stream",
     "text": [
      "gpu num:  1\n"
     ]
    }
   ],
   "source": [
    "import os\n",
    "import torch\n",
    "\n",
    "from fairseq.models.bart import BARTModel\n",
    "#from rouge import Rouge, FilesRouge\n",
    "from tqdm import tqdm_notebook as tqdm\n",
    "\n",
    "import warnings\n",
    "warnings.filterwarnings(\"ignore\", category=DeprecationWarning)\n",
    "warnings.filterwarnings(\"ignore\", category=UserWarning)\n",
    "\n",
    "os.environ['CUDA_VISIBLE_DEVICES'] = '0'\n",
    "os.environ['CUDA_LAUNCH_BLOCKING'] = '1'\n",
    "device = torch.device(\"cuda\" if torch.cuda.is_available() else \"cpu\")\n",
    "n_gpu = torch.cuda.device_count()\n",
    "print(\"gpu num: \", n_gpu)\n",
    "\n",
    "def create_hypotheses(weights_path, data_path, source, source2):\n",
    "    bart = BARTModel.from_pretrained(\n",
    "        weights_path,\n",
    "        checkpoint_file='checkpoint_best.pt',\n",
    "        data_name_or_path=data_path\n",
    "    )\n",
    "\n",
    "    bart.eval()\n",
    "    bart.cuda()\n",
    "    slines = [source.strip()]\n",
    "    slines2 = [source2.strip()]\n",
    "    hypotheses = bart.sample(slines, sentences2 = slines2, balance = True, beam=4, lenpen=2.0, max_len_b=100, min_len=5, no_repeat_ngram_size=3)\n",
    "    torch.cuda.empty_cache()\n",
    "    \n",
    "    return hypotheses\n",
    "\n",
    "\n",
    "def show_n_labels_and_preds(hyp_path, n=2):\n",
    "    ref_path = './data/dialogsum/DialogSum_Data/test_dialogsum_sent_trans_cons_label_2.target'\n",
    "    hypothesis = []\n",
    "    with open(hyp_path, 'r') as f:\n",
    "            lines = f.readlines()\n",
    "            for l in lines:\n",
    "                hypothesis.append(l[:-1])\n",
    "\n",
    "    reference = []\n",
    "    with open(ref_path, 'r') as f:\n",
    "        lines = f.readlines()\n",
    "        for l in lines:\n",
    "            reference.append(l[:-1])\n",
    "\n",
    "    for i in range(n):\n",
    "        print('PRED:')\n",
    "        print(hypothesis[i])\n",
    "        print('LABEL:')\n",
    "        print(reference[i])\n",
    "        print('\\n')"
   ]
  },
  {
   "cell_type": "code",
   "execution_count": 13,
   "id": "6a6f698f",
   "metadata": {},
   "outputs": [
    {
     "name": "stdout",
     "output_type": "stream",
     "text": [
      "PRED:\n",
      "Person1# sends an intra-office memorandum to all employees. The use of Instant Message programs by employees during working hours is strictly prohibited. Any employee who persists in using Instant Messaging will first receive a warning and be placed on probation. At second offense, the employee will face termination. The policy applies to internal and external communications.\n",
      "LABEL:\n",
      "Ms. Dawson helps #Person1# to write a memo to inform every employee that they have to change the communication method and should not use Instant Messaging anymore.\n",
      "\n",
      "\n",
      "PRED:\n",
      "Person2# got stuck in a traffic jam near the Carrefour intersection. She will consider taking public transport system to work instead of driving to work.\n",
      "LABEL:\n",
      "#Person2# arrives late because of traffic jam. #Person1# persuades #Person2# to use public transportations to keep healthy and to protect the environment.\n",
      "\n",
      "\n"
     ]
    }
   ],
   "source": [
    "pretrained_test_hypo = './data/dialogsum/DialogSum_Data/test_best_multi_attn_best_PRETRAINED.hypo'\n",
    "show_n_labels_and_preds(pretrained_test_hypo)"
   ]
  },
  {
   "cell_type": "code",
   "execution_count": 14,
   "id": "c0bd3768",
   "metadata": {},
   "outputs": [
    {
     "name": "stdout",
     "output_type": "stream",
     "text": [
      "PRED:\n",
      "#Person1# asks Ms. Dawson to take a dictation for him and asks her to send an intra-office memorandum to all employees by this afternoon. He tells her that Instant Message programs by employees during working hours are strictly prohibited and applies to internal and external communications. Any employee who persists in using Instant Messaging will first receive a warning and be placed on probation, and at second offense, the employee will face termination.\n",
      "LABEL:\n",
      "Ms. Dawson helps #Person1# to write a memo to inform every employee that they have to change the communication method and should not use Instant Messaging anymore.\n",
      "\n",
      "\n",
      "PRED:\n",
      "#Person2# got stuck in traffic again. #Person1# suggests taking public transport system to work to get home and suggests biking to work when it's nicer outside, but #Person2 # is going to miss having the freedom with a car. Then they talk about the environment.\n",
      "LABEL:\n",
      "#Person2# arrives late because of traffic jam. #Person1# persuades #Person2# to use public transportations to keep healthy and to protect the environment.\n",
      "\n",
      "\n"
     ]
    }
   ],
   "source": [
    "test_hypo_single = './data/dialogsum/DialogSum_Data/test_best_multi_attn_best_SINGLE.hypo'\n",
    "show_n_labels_and_preds(test_hypo_single)"
   ]
  },
  {
   "cell_type": "code",
   "execution_count": 15,
   "id": "e420c4f3",
   "metadata": {},
   "outputs": [
    {
     "name": "stdout",
     "output_type": "stream",
     "text": [
      "PRED:\n",
      "#Person1# asks Ms. Dawson to take a dictation for the intra-office memorandum and tells the staff that all office communications are restricted to email correspondence and official memos and the use of Instant Message programs by employees during working hours is strictly prohibited. Any employee who persists in using Instant Messaging will first receive a warning and be placed on probation, and at second offense, the employee will face termination. #Person2# asks for clarification on the new policy.\n",
      "LABEL:\n",
      "Ms. Dawson helps #Person1# to write a memo to inform every employee that they have to change the communication method and should not use Instant Messaging anymore.\n",
      "\n",
      "\n",
      "PRED:\n",
      "#Person2# got stuck in traffic again. #Person1# suggests taking public transport system to work and suggests taking the subway, but #Person2 # thinks it's not good for the environment and the freedom with a car. Then they talk about biking to work when it's nicer outside.\n",
      "LABEL:\n",
      "#Person2# arrives late because of traffic jam. #Person1# persuades #Person2# to use public transportations to keep healthy and to protect the environment.\n",
      "\n",
      "\n"
     ]
    }
   ],
   "source": [
    "test_hypo_multi = './data/dialogsum/DialogSum_Data/test_best_multi_attn_best_MULTI.hypo'\n",
    "show_n_labels_and_preds(test_hypo_multi)"
   ]
  },
  {
   "cell_type": "code",
   "execution_count": 16,
   "id": "b7fbfb08",
   "metadata": {},
   "outputs": [
    {
     "name": "stdout",
     "output_type": "stream",
     "text": [
      "#Person1#: She said yes! #Person2#: What? #Person1#: I proposed to Sarah and she said yes! #Person2#: Oh my god! That's amazing! Let me visit you and you have to tell me everything! #Person1#: Yes, sure! | \n",
      "\n"
     ]
    }
   ],
   "source": [
    "dialogue = \"#Person1#: She said yes! #Person2#: What? #Person1#: I proposed to Sarah and she said yes! #Person2#: Oh my god! That's amazing! Let me visit you and you have to tell me everything! #Person1#: Yes, sure! | \\n\"\n",
    "print(dialogue)"
   ]
  },
  {
   "cell_type": "code",
   "execution_count": 17,
   "id": "379f0abe",
   "metadata": {},
   "outputs": [
    {
     "name": "stdout",
     "output_type": "stream",
     "text": [
      "here!\n"
     ]
    }
   ],
   "source": [
    "weights_path = 'checkpoints_multi_view'\n",
    "data_path = './cnn_dm-bin_2'\n",
    "hypotheses = create_hypotheses(weights_path, data_path, dialogue, dialogue)"
   ]
  },
  {
   "cell_type": "code",
   "execution_count": 18,
   "id": "ecf64ad0",
   "metadata": {},
   "outputs": [
    {
     "data": {
      "text/plain": [
       "['#Person1 proposed to Sarah and she said yes. #Person2 will visit him.']"
      ]
     },
     "execution_count": 18,
     "metadata": {},
     "output_type": "execute_result"
    }
   ],
   "source": [
    "hypotheses"
   ]
  },
  {
   "cell_type": "code",
   "execution_count": 19,
   "id": "3aae6107",
   "metadata": {},
   "outputs": [
    {
     "name": "stdout",
     "output_type": "stream",
     "text": [
      "here!\n",
      "#Person1# proposed to Sarah and she said yes. #Person2#'s amazed.\n"
     ]
    }
   ],
   "source": [
    "weights_path = 'train_sh/checkpoints_stage'\n",
    "data_path = '../dialogsum-bin'\n",
    "hypotheses = create_hypotheses(weights_path, data_path, dialogue, dialogue)\n",
    "print(hypotheses[0])"
   ]
  },
  {
   "cell_type": "code",
   "execution_count": 20,
   "id": "f2c20889",
   "metadata": {},
   "outputs": [
    {
     "name": "stdout",
     "output_type": "stream",
     "text": [
      "here!\n",
      "#Person1# proposes to Sarah and she said yes. #Person2# wants to visit.\n"
     ]
    }
   ],
   "source": [
    "weights_path = 'train_sh/checkpoints'\n",
    "data_path = '../dialogsum-bin_2'\n",
    "hypotheses = create_hypotheses(weights_path, data_path, dialogue, dialogue)\n",
    "print(hypotheses[0])"
   ]
  },
  {
   "cell_type": "code",
   "execution_count": 13,
   "id": "6bb99582",
   "metadata": {},
   "outputs": [],
   "source": [
    "dialogue = \"#Person1#: Hello Mrs. Parker, how have you been?\\n#Person1#: Very well. Let's see, according to his vaccination record, Ricky has received his Polio, Tetanus and Hepatitis B shots. He is 14 months old, so he is due for Hepatitis A, Chickenpox and Measles shots.\\n#Person1#: Well, I can only give him these for now, and after a couple of weeks I can administer the rest.\\n#Person1#: We will check our records and I'll have the nurse administer and the booster as well. Now, please hold Ricky's arm tight, this may sting a little.\\n\""
   ]
  },
  {
   "cell_type": "code",
   "execution_count": 14,
   "id": "d774a9ca",
   "metadata": {},
   "outputs": [
    {
     "name": "stdout",
     "output_type": "stream",
     "text": [
      "#Person1#: Hello Mrs. Parker, how have you been?\n",
      "#Person1#: Very well. Let's see, according to his vaccination record, Ricky has received his Polio, Tetanus and Hepatitis B shots. He is 14 months old, so he is due for Hepatitis A, Chickenpox and Measles shots.\n",
      "#Person1#: Well, I can only give him these for now, and after a couple of weeks I can administer the rest.\n",
      "#Person1#: We will check our records and I'll have the nurse administer and the booster as well. Now, please hold Ricky's arm tight, this may sting a little.\n",
      "\n"
     ]
    }
   ],
   "source": [
    "for utt in dialogue.split('\\n'):\n",
    "    print(utt)"
   ]
  },
  {
   "cell_type": "code",
   "execution_count": 12,
   "id": "4869a64a",
   "metadata": {},
   "outputs": [
    {
     "name": "stdout",
     "output_type": "stream",
     "text": [
      "here!\n"
     ]
    },
    {
     "data": {
      "text/plain": [
       "[\"Mrs. Parker's son, Ricky, has received his Polio, Tetanus and Hepatitis B shots. He is 14 months old and is due for Hep-A, Chickenpox and Measles shots. The nurse will administer the booster to him.\"]"
      ]
     },
     "execution_count": 12,
     "metadata": {},
     "output_type": "execute_result"
    }
   ],
   "source": [
    "weights_path = 'checkpoints_multi_view'\n",
    "data_path = './cnn_dm-bin_2'\n",
    "create_hypotheses(weights_path, data_path, dialogue, dialogue)"
   ]
  },
  {
   "cell_type": "code",
   "execution_count": 17,
   "id": "c83c891f",
   "metadata": {},
   "outputs": [
    {
     "name": "stdout",
     "output_type": "stream",
     "text": [
      "#Person2#: Hello Dr. Peters. Just fine thank you. Ricky and I are here for his vaccines.\n",
      "#Person2#: What about Rubella and Mumps?\n",
      "#Person2#: OK, great. Doctor, I think I also may need a Tetanus booster. Last time I got it was maybe fifteen years ago!\n",
      "\n"
     ]
    }
   ],
   "source": [
    "dialogue_2 = '#Person2#: Hello Dr. Peters. Just fine thank you. Ricky and I are here for his vaccines.\\n#Person2#: What about Rubella and Mumps?\\n#Person2#: OK, great. Doctor, I think I also may need a Tetanus booster. Last time I got it was maybe fifteen years ago!\\n'\n",
    "for utt in dialogue_2.split('\\n'):\n",
    "    print(utt)"
   ]
  },
  {
   "cell_type": "code",
   "execution_count": 18,
   "id": "fb990791",
   "metadata": {},
   "outputs": [
    {
     "name": "stdout",
     "output_type": "stream",
     "text": [
      "here!\n"
     ]
    },
    {
     "data": {
      "text/plain": [
       "[\"#Person2# and Ricky are here for Ricky's vaccines. Ricky will get Rubella and Mumps, and he may need a Tetanus booster.\"]"
      ]
     },
     "execution_count": 18,
     "metadata": {},
     "output_type": "execute_result"
    }
   ],
   "source": [
    "weights_path = 'checkpoints_multi_view'\n",
    "data_path = './cnn_dm-bin_2'\n",
    "create_hypotheses(weights_path, data_path, dialogue_2, dialogue_2)"
   ]
  },
  {
   "cell_type": "code",
   "execution_count": 15,
   "id": "65d8214e",
   "metadata": {},
   "outputs": [
    {
     "name": "stdout",
     "output_type": "stream",
     "text": [
      "#Person1#: Excuse me, did you see a set of keys?\n",
      "#Person1#: Five keys and a small foot ornament.\n",
      "#Person1#: Well, can you help me look for it? That's my first time here.\n",
      "#Person1#: It's very kind of you.\n",
      "#Person1#: Oh, thank God! I don't know how to thank you, guys.\n",
      "\n"
     ]
    }
   ],
   "source": [
    "dialogue = \"#Person1#: Excuse me, did you see a set of keys?\\n#Person1#: Five keys and a small foot ornament.\\n#Person1#: Well, can you help me look for it? That's my first time here.\\n#Person1#: It's very kind of you.\\n#Person1#: Oh, thank God! I don't know how to thank you, guys.\\n\"\n",
    "for utt in dialogue.split('\\n'):\n",
    "    print(utt)"
   ]
  },
  {
   "cell_type": "code",
   "execution_count": 16,
   "id": "d4630c5a",
   "metadata": {},
   "outputs": [
    {
     "name": "stdout",
     "output_type": "stream",
     "text": [
      "here!\n"
     ]
    },
    {
     "data": {
      "text/plain": [
       "['#Person1# is looking for a set of keys and a small foot ornament. He found it.']"
      ]
     },
     "execution_count": 16,
     "metadata": {},
     "output_type": "execute_result"
    }
   ],
   "source": [
    "weights_path = 'checkpoints_multi_view'\n",
    "data_path = './cnn_dm-bin_2'\n",
    "create_hypotheses(weights_path, data_path, dialogue, dialogue)"
   ]
  },
  {
   "cell_type": "code",
   "execution_count": 19,
   "id": "69739dee",
   "metadata": {},
   "outputs": [
    {
     "name": "stdout",
     "output_type": "stream",
     "text": [
      "#Person2#: What kind of keys?\n",
      "#Person2#: What a shame! I didn't see them.\n",
      "#Person2#: Sure. It's my pleasure. I'd like to help you look for the missing keys.\n",
      "#Person2#: It's not a big deal.Hey, I found them.\n",
      "#Person2#: You're welcome.\n",
      "\n"
     ]
    }
   ],
   "source": [
    "dialogue_2 = \"#Person2#: What kind of keys?\\n#Person2#: What a shame! I didn't see them.\\n#Person2#: Sure. It's my pleasure. I'd like to help you look for the missing keys.\\n#Person2#: It's not a big deal.Hey, I found them.\\n#Person2#: You're welcome.\\n\"\n",
    "for utt in dialogue_2.split('\\n'):\n",
    "    print(utt)"
   ]
  },
  {
   "cell_type": "code",
   "execution_count": 21,
   "id": "855ec3b1",
   "metadata": {},
   "outputs": [
    {
     "name": "stdout",
     "output_type": "stream",
     "text": [
      "here!\n"
     ]
    },
    {
     "data": {
      "text/plain": [
       "['#Person2# will look for the missing keys.']"
      ]
     },
     "execution_count": 21,
     "metadata": {},
     "output_type": "execute_result"
    }
   ],
   "source": [
    "weights_path = 'checkpoints_multi_view'\n",
    "data_path = './cnn_dm-bin_2'\n",
    "create_hypotheses(weights_path, data_path, dialogue_2, dialogue_2)"
   ]
  },
  {
   "cell_type": "code",
   "execution_count": null,
   "id": "2a05b4cd",
   "metadata": {},
   "outputs": [],
   "source": []
  }
 ],
 "metadata": {
  "kernelspec": {
   "display_name": "Python 3",
   "language": "python",
   "name": "python3"
  },
  "language_info": {
   "codemirror_mode": {
    "name": "ipython",
    "version": 3
   },
   "file_extension": ".py",
   "mimetype": "text/x-python",
   "name": "python",
   "nbconvert_exporter": "python",
   "pygments_lexer": "ipython3",
   "version": "3.6.9"
  }
 },
 "nbformat": 4,
 "nbformat_minor": 5
}
