{
 "cells": [
  {
   "cell_type": "code",
   "execution_count": 1,
   "id": "0f79c552",
   "metadata": {},
   "outputs": [
    {
     "name": "stderr",
     "output_type": "stream",
     "text": [
      "/home/tnguyen/miniconda/envs/corefs/lib/python3.8/site-packages/tqdm/auto.py:22: TqdmWarning: IProgress not found. Please update jupyter and ipywidgets. See https://ipywidgets.readthedocs.io/en/stable/user_install.html\n",
      "  from .autonotebook import tqdm as notebook_tqdm\n"
     ]
    },
    {
     "name": "stdout",
     "output_type": "stream",
     "text": [
      "running_random_number 8024 \n",
      "\n"
     ]
    }
   ],
   "source": [
    "import os\n",
    "import random\n",
    "import time\n",
    "import re\n",
    "from collections import Counter\n",
    "from tqdm import tqdm\n",
    "import pickle\n",
    "\n",
    "import torch\n",
    "import numpy as np\n",
    "import rouge\n",
    "\n",
    "from Model import Model\n",
    "from main import *\n",
    "\n",
    "import global_config\n",
    "\n",
    "os.environ['CUDA_VISIBLE_DEVICES'] = global_config.gpu_id"
   ]
  },
  {
   "cell_type": "code",
   "execution_count": 2,
   "id": "5d1ff8f1",
   "metadata": {},
   "outputs": [
    {
     "name": "stdout",
     "output_type": "stream",
     "text": [
      "Test Dataset size: 500\n"
     ]
    }
   ],
   "source": [
    "data_test = read_data_from_file(global_config.data_path + \"test.\")\n",
    "print('Test Dataset size: %d' % (len(data_test)))"
   ]
  },
  {
   "cell_type": "code",
   "execution_count": 3,
   "id": "53aad634",
   "metadata": {},
   "outputs": [
    {
     "name": "stdout",
     "output_type": "stream",
     "text": [
      "Loading the pretrained model: facebook/bart-large\n"
     ]
    }
   ],
   "source": [
    "model = Model()"
   ]
  },
  {
   "cell_type": "code",
   "execution_count": 4,
   "id": "8eca677e",
   "metadata": {},
   "outputs": [
    {
     "name": "stdout",
     "output_type": "stream",
     "text": [
      "Loading model from: saved_models//best_model_2191_epoch6_0.49117.pth\n"
     ]
    },
    {
     "name": "stderr",
     "output_type": "stream",
     "text": [
      "  0%|                                                   | 0/500 [00:00<?, ?it/s]/home/tnguyen/coref_dial_summ/Model.py:217: UserWarning: Creating a tensor from a list of numpy.ndarrays is extremely slow. Please consider converting the list to a single numpy.ndarray with numpy.array() before converting to a tensor. (Triggered internally at  ../torch/csrc/utils/tensor_new.cpp:201.)\n",
      "  batch_coref_list = torch.Tensor(graph_attention_heads).cuda()\n",
      "/home/tnguyen/miniconda/envs/corefs/lib/python3.8/site-packages/transformers/generation_utils.py:1844: UserWarning: __floordiv__ is deprecated, and its behavior will change in a future version of pytorch. It currently rounds toward 0 (like the 'trunc' function NOT 'floor'). This results in incorrect rounding for negative values. To keep the current behavior, use torch.div(a, b, rounding_mode='trunc'), or for actual floor division, use torch.div(a, b, rounding_mode='floor').\n",
      "  next_indices = next_tokens // vocab_size\n",
      "100%|█████████████████████████████████████████| 500/500 [14:31<00:00,  1.74s/it]\n"
     ]
    },
    {
     "name": "stdout",
     "output_type": "stream",
     "text": [
      "\n",
      "Test Result in epoch: -999\n",
      "\trouge-1:\t 42.48\t 52.98\t 45.66\n",
      "\trouge-2:\t 18.75\t 23.29\t 20.07\n",
      "\trouge-l:\t 41.33\t 49.74\t 44.13\n",
      "ROUGE 1-2-L F: 45.66-20.07-44.13- \n",
      "\n",
      "Test loss: -1.0\n"
     ]
    },
    {
     "data": {
      "text/plain": [
       "(None, 'ROUGE 1-2-L F:45.66-20.07-44.13-')"
      ]
     },
     "execution_count": 4,
     "metadata": {},
     "output_type": "execute_result"
    }
   ],
   "source": [
    "load_model_path = global_config.load_model_path\n",
    "model.load_model(load_model_path)\n",
    "evaluate_process(model, data_test, -999, fast_infer=True)"
   ]
  },
  {
   "cell_type": "code",
   "execution_count": 5,
   "id": "32457b3c",
   "metadata": {},
   "outputs": [],
   "source": [
    "test_batches = get_batches(data_test, global_config.batch_size)"
   ]
  },
  {
   "cell_type": "code",
   "execution_count": 7,
   "id": "23f0cfe8",
   "metadata": {},
   "outputs": [],
   "source": [
    "all_transferred_sentences, all_gold_sentences = [], []\n",
    "all_test_loss = []"
   ]
  },
  {
   "cell_type": "code",
   "execution_count": 9,
   "id": "17bdf612",
   "metadata": {},
   "outputs": [
    {
     "name": "stderr",
     "output_type": "stream",
     "text": [
      "100%|███████████████████████████████████████████| 20/20 [00:28<00:00,  1.44s/it]\n"
     ]
    }
   ],
   "source": [
    "for batch in tqdm(test_batches[:20]):\n",
    "    transferred_sen_text = model.batch_infer(batch)\n",
    "    all_test_loss.append(-1)\n",
    "    all_transferred_sentences.extend(transferred_sen_text)\n",
    "    all_gold_sentences.extend([i[1] for i in batch])"
   ]
  },
  {
   "cell_type": "code",
   "execution_count": null,
   "id": "00c5781b",
   "metadata": {},
   "outputs": [],
   "source": []
  }
 ],
 "metadata": {
  "kernelspec": {
   "display_name": "Python 3",
   "language": "python",
   "name": "python3"
  },
  "language_info": {
   "codemirror_mode": {
    "name": "ipython",
    "version": 3
   },
   "file_extension": ".py",
   "mimetype": "text/x-python",
   "name": "python",
   "nbconvert_exporter": "python",
   "pygments_lexer": "ipython3",
   "version": "3.8.12"
  }
 },
 "nbformat": 4,
 "nbformat_minor": 5
}
