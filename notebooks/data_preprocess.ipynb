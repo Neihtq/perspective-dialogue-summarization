{
 "cells": [
  {
   "cell_type": "code",
   "execution_count": 182,
   "id": "c4852416",
   "metadata": {},
   "outputs": [],
   "source": [
    "import os\n",
    "import json\n",
    "import pandas as pd\n",
    "\n",
    "DATA_PATH = data_path = os.path.join('..', 'data')\n",
    "\n",
    "\n",
    "def load_labels(split):\n",
    "    with open(f'new_dialogsum_labels_{split}.json', 'r') as json_file:\n",
    "        data = json.load(json_file)\n",
    "        data = {int(i): data[i] for i in data}\n",
    "    \n",
    "    return data\n",
    "\n",
    "def prepare_dataframe():    \n",
    "    dialogsum_path = os.path.join(DATA_PATH, 'dialogsum', 'DialogSum_Data')\n",
    "    test_path = os.path.join(dialogsum_path, 'dialogsum.test.jsonl')\n",
    "    dialogsum_test_df = pd.read_json(test_path, lines=True)\n",
    "    dialogsum_test_df = dialogsum_test_df.rename(columns={\"summary1\": \"summary\"})\n",
    "    dialogsum_test_df['split'] = 'test'\n",
    "    \n",
    "    \n",
    "    dev_path = os.path.join(dialogsum_path, 'dialogsum.dev.jsonl')\n",
    "    dialogsum_dev_df = pd.read_json(dev_path, lines=True)\n",
    "    dialogsum_dev_df['split'] = 'val'\n",
    "\n",
    "    train_path = os.path.join(dialogsum_path, 'dialogsum.train.jsonl')\n",
    "    dialogsum_train_df = pd.read_json(train_path, lines=True)\n",
    "    dialogsum_train_df['split'] = 'train'\n",
    "    \n",
    "    dialogsum_df = pd.concat([dialogsum_train_df, dialogsum_dev_df, dialogsum_test_df])\n",
    "    dialogsum_df.reset_index(inplace=True)\n",
    "    \n",
    "    return dialogsum_df\n",
    "\n",
    "\n",
    "def create_dataset(split, dialogsum_df):\n",
    "    labels = load_labels(split)\n",
    "    two_person_df = dialogsum_df[(dialogsum_df['dialogue'].str.contains('#Person3#') == False) & (dialogsum_df['split'] == split)].copy()\n",
    "    \n",
    "    for key in labels:\n",
    "        summary_p1 = ' '.join(labels[key]['Person1'])\n",
    "        summary_p2 = ' '.join(labels[key]['Person2'])\n",
    "        two_person_df.loc[key, 'summary_p1'] = summary_p1\n",
    "        two_person_df.loc[key, 'summary_p2'] = summary_p2\n",
    "    \n",
    "    two_person_df.reset_index(drop=True, inplace=True)\n",
    "    two_person_df = two_person_df.rename(columns={'index': 'id'})\n",
    "    \n",
    "    if split == 'test':\n",
    "        two_person_df = two_person_df.rename(columns={\"summary\": \"summary1\"})\n",
    "        two_person_df.drop('topic', axis=1, inplace=True)\n",
    "    else:\n",
    "        for i in range(1, 4):\n",
    "            for col in ['topic', 'summary']:\n",
    "                if i == 1 and col == 'summary':\n",
    "                    continue\n",
    "                col_name = col + str(i)\n",
    "                two_person_df.drop(col_name, axis=1, inplace=True)\n",
    "    \n",
    "    return two_person_df\n",
    "\n",
    "\n",
    "def write_df_to_json(df):\n",
    "    split = df.iloc[0]['split']\n",
    "    dest_path = os.path.join(DATA_PATH, 'new_dialogsum/')\n",
    "    if not os.path.exists(dest_path):\n",
    "        os.mkdir(dest_path)\n",
    "    \n",
    "    dest_path = os.path.join(dest_path, f'{split}.json')\n",
    "    data = [json.loads(row.to_json()) for _, row in df.iterrows()]\n",
    "    with open(dest_path, 'w') as json_file:\n",
    "        json.dump(data, json_file)"
   ]
  },
  {
   "cell_type": "code",
   "execution_count": 183,
   "id": "8ae111f1",
   "metadata": {},
   "outputs": [],
   "source": [
    "dialogsum_df = prepare_dataframe()"
   ]
  },
  {
   "cell_type": "code",
   "execution_count": 184,
   "id": "23e6f9a7",
   "metadata": {},
   "outputs": [],
   "source": [
    "two_person_test_df = create_dataset('test', dialogsum_df)\n",
    "two_person_val_df = create_dataset('val', dialogsum_df)\n",
    "two_person_train_df = create_dataset('train', dialogsum_df)"
   ]
  },
  {
   "cell_type": "code",
   "execution_count": 190,
   "id": "509cb4b7",
   "metadata": {},
   "outputs": [],
   "source": [
    "write_df_to_json(two_person_test_df)\n",
    "write_df_to_json(two_person_val_df)\n",
    "write_df_to_json(two_person_train_df)"
   ]
  },
  {
   "cell_type": "code",
   "execution_count": null,
   "id": "e2f73588",
   "metadata": {},
   "outputs": [],
   "source": []
  }
 ],
 "metadata": {
  "kernelspec": {
   "display_name": "Python 3",
   "language": "python",
   "name": "python3"
  },
  "language_info": {
   "codemirror_mode": {
    "name": "ipython",
    "version": 3
   },
   "file_extension": ".py",
   "mimetype": "text/x-python",
   "name": "python",
   "nbconvert_exporter": "python",
   "pygments_lexer": "ipython3",
   "version": "3.6.9"
  }
 },
 "nbformat": 4,
 "nbformat_minor": 5
}
