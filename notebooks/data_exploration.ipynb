{
 "cells": [
  {
   "cell_type": "code",
   "execution_count": 49,
   "id": "fea5db4b",
   "metadata": {},
   "outputs": [],
   "source": [
    "import os\n",
    "import re\n",
    "import json\n",
    "import pandas as pd\n",
    "import matplotlib.pyplot as plt\n",
    "\n",
    "from collections import defaultdict\n",
    "from random import sample"
   ]
  },
  {
   "cell_type": "code",
   "execution_count": 50,
   "id": "8f0e6062",
   "metadata": {},
   "outputs": [],
   "source": [
    "data_path = os.path.join('..', 'data')\n",
    "dialogsum_path = os.path.join(data_path, 'dialogsum', 'DialogSum_Data')\n",
    "samsum_path = os.path.join(data_path, 'SAMSum')\n",
    "#mediasum_path = os.path.join(data_path, 'mediasum', 'news_dialogue.json')"
   ]
  },
  {
   "cell_type": "code",
   "execution_count": 51,
   "id": "508b38d2",
   "metadata": {},
   "outputs": [],
   "source": [
    "def print_size_and_concat(dfs):\n",
    "    total_size = 0\n",
    "    for key, val in dfs.items():\n",
    "        size = len(val)\n",
    "        print(f'{key}size',size)\n",
    "        total_size += size\n",
    "        \n",
    "    print('Total size', total_size)\n",
    "    df = pd.concat(list(dfs.values()))\n",
    "    return df\n",
    "\n",
    "\n",
    "def print_nth_row(df, n=0):\n",
    "    line_0 = df.iloc[n]\n",
    "    for key in line_0.keys():\n",
    "        print(key.upper())\n",
    "        print(line_0[key])\n",
    "        print('')\n",
    "        \n",
    "def print_n_rows(df, n=20):\n",
    "    for i in range(n):\n",
    "        line = df.iloc[i]\n",
    "        for key in line.keys():\n",
    "            print(key.upper())\n",
    "            print(line[key])\n",
    "            print('')\n",
    "            \n",
    "def print_ith_row(df, i):\n",
    "    line_i = df.iloc[i]\n",
    "    dialogue = line_i['dialogue'].split('\\n')\n",
    "    for utt in dialogue:\n",
    "        print(utt)\n",
    "    \n",
    "    print('\\n\\n')\n",
    "    \n",
    "    label = line_i['summary1']\n",
    "    print(label)"
   ]
  },
  {
   "cell_type": "markdown",
   "id": "c9817dea",
   "metadata": {},
   "source": [
    "# Dialogsum"
   ]
  },
  {
   "cell_type": "code",
   "execution_count": 52,
   "id": "d69369f2",
   "metadata": {},
   "outputs": [],
   "source": [
    "test_path = os.path.join(dialogsum_path, 'dialogsum.test.jsonl')\n",
    "dialogsum_test_df = pd.read_json(test_path, lines=True)"
   ]
  },
  {
   "cell_type": "code",
   "execution_count": 53,
   "id": "828e6091",
   "metadata": {},
   "outputs": [
    {
     "data": {
      "text/html": [
       "<div>\n",
       "<style scoped>\n",
       "    .dataframe tbody tr th:only-of-type {\n",
       "        vertical-align: middle;\n",
       "    }\n",
       "\n",
       "    .dataframe tbody tr th {\n",
       "        vertical-align: top;\n",
       "    }\n",
       "\n",
       "    .dataframe thead th {\n",
       "        text-align: right;\n",
       "    }\n",
       "</style>\n",
       "<table border=\"1\" class=\"dataframe\">\n",
       "  <thead>\n",
       "    <tr style=\"text-align: right;\">\n",
       "      <th></th>\n",
       "      <th>fname</th>\n",
       "      <th>dialogue</th>\n",
       "      <th>summary1</th>\n",
       "      <th>topic1</th>\n",
       "      <th>summary2</th>\n",
       "      <th>topic2</th>\n",
       "      <th>summary3</th>\n",
       "      <th>topic3</th>\n",
       "    </tr>\n",
       "  </thead>\n",
       "  <tbody>\n",
       "    <tr>\n",
       "      <th>0</th>\n",
       "      <td>test_0</td>\n",
       "      <td>#Person1#: Ms. Dawson, I need you to take a di...</td>\n",
       "      <td>Ms. Dawson helps #Person1# to write a memo to ...</td>\n",
       "      <td>communication method</td>\n",
       "      <td>In order to prevent employees from wasting tim...</td>\n",
       "      <td>company policy</td>\n",
       "      <td>Ms. Dawson takes a dictation for #Person1# abo...</td>\n",
       "      <td>dictation</td>\n",
       "    </tr>\n",
       "    <tr>\n",
       "      <th>1</th>\n",
       "      <td>test_1</td>\n",
       "      <td>#Person1#: You're finally here! What took so l...</td>\n",
       "      <td>#Person2# arrives late because of traffic jam....</td>\n",
       "      <td>public transportation</td>\n",
       "      <td>#Person2# decides to follow #Person1#'s sugges...</td>\n",
       "      <td>transportation</td>\n",
       "      <td>#Person2# complains to #Person1# about the tra...</td>\n",
       "      <td>discuss transportation</td>\n",
       "    </tr>\n",
       "    <tr>\n",
       "      <th>2</th>\n",
       "      <td>test_2</td>\n",
       "      <td>#Person1#: Kate, you never believe what's happ...</td>\n",
       "      <td>#Person1# tells Kate that Masha and Hero get d...</td>\n",
       "      <td>divorce</td>\n",
       "      <td>#Person1# tells Kate that Masha and Hero are g...</td>\n",
       "      <td>divorce</td>\n",
       "      <td>#Person1# and Kate talk about the divorce betw...</td>\n",
       "      <td>discuss divorce</td>\n",
       "    </tr>\n",
       "    <tr>\n",
       "      <th>3</th>\n",
       "      <td>test_3</td>\n",
       "      <td>#Person1#: Happy Birthday, this is for you, Br...</td>\n",
       "      <td>#Person1# and Brian are at the birthday party ...</td>\n",
       "      <td>birthday party</td>\n",
       "      <td>#Person1# attends Brian's birthday party. Bria...</td>\n",
       "      <td>birthday party</td>\n",
       "      <td>#Person1# has a dance with Brian at Brian's bi...</td>\n",
       "      <td>birthday party</td>\n",
       "    </tr>\n",
       "    <tr>\n",
       "      <th>4</th>\n",
       "      <td>test_4</td>\n",
       "      <td>#Person1#: This Olympic park is so big!\\n#Pers...</td>\n",
       "      <td>#Person1# is surprised at the Olympic Stadium'...</td>\n",
       "      <td>Olympic Stadium</td>\n",
       "      <td>#Person2# shows #Person1# around the construct...</td>\n",
       "      <td>sports stadium</td>\n",
       "      <td>#Person2# introduces the Olympic Stadium's fin...</td>\n",
       "      <td>Olympic Stadium</td>\n",
       "    </tr>\n",
       "    <tr>\n",
       "      <th>...</th>\n",
       "      <td>...</td>\n",
       "      <td>...</td>\n",
       "      <td>...</td>\n",
       "      <td>...</td>\n",
       "      <td>...</td>\n",
       "      <td>...</td>\n",
       "      <td>...</td>\n",
       "      <td>...</td>\n",
       "    </tr>\n",
       "    <tr>\n",
       "      <th>495</th>\n",
       "      <td>test_495</td>\n",
       "      <td>#Person1#: Hey, Charlie, do you want to come t...</td>\n",
       "      <td>Jack invites Charlie to play a new video game ...</td>\n",
       "      <td>video game invitation</td>\n",
       "      <td>Jack asks Charlie to come over and play the ne...</td>\n",
       "      <td>\\n\\nentertainment activity schedule</td>\n",
       "      <td>Jack invites Charlie to play video games after...</td>\n",
       "      <td>play game</td>\n",
       "    </tr>\n",
       "    <tr>\n",
       "      <th>496</th>\n",
       "      <td>test_496</td>\n",
       "      <td>#Person1#: How did you get interested in count...</td>\n",
       "      <td>#Person2# explains to #Person1# about how #Per...</td>\n",
       "      <td>conversation about interest</td>\n",
       "      <td>#Person2# shares #Person2#'s career in the pas...</td>\n",
       "      <td>work experience</td>\n",
       "      <td>#Person2# tells #Person1# about #Person2#'s ow...</td>\n",
       "      <td>country music</td>\n",
       "    </tr>\n",
       "    <tr>\n",
       "      <th>497</th>\n",
       "      <td>test_497</td>\n",
       "      <td>#Person1#: Excuse me, Alice, I've never used t...</td>\n",
       "      <td>Alice guides #Person1# to use the washing mach...</td>\n",
       "      <td>campus conversation</td>\n",
       "      <td>#Person1# asks Alice how to use the washing ma...</td>\n",
       "      <td>campus life conversation</td>\n",
       "      <td>#Person1# doesn't know how to use the washing ...</td>\n",
       "      <td>clothes washing</td>\n",
       "    </tr>\n",
       "    <tr>\n",
       "      <th>498</th>\n",
       "      <td>test_498</td>\n",
       "      <td>#Person1#: Matthew? Hi!\\n#Person2#: Steve! Hav...</td>\n",
       "      <td>Steve is looking for a new place to live and M...</td>\n",
       "      <td>house renting</td>\n",
       "      <td>Matthew and Steve meet after a long time. Stev...</td>\n",
       "      <td>finding a house</td>\n",
       "      <td>Steve has been looking for a place to live. Ma...</td>\n",
       "      <td>find a house</td>\n",
       "    </tr>\n",
       "    <tr>\n",
       "      <th>499</th>\n",
       "      <td>test_499</td>\n",
       "      <td>#Person1#: Hey, Betsy, did you hear the great ...</td>\n",
       "      <td>Frank invites Besty to the party to celebrate ...</td>\n",
       "      <td>party invitation</td>\n",
       "      <td>Frank invites Betsy to the big promotion party...</td>\n",
       "      <td>promotion party invitation</td>\n",
       "      <td>Frank invites Betsy to his party for his promo...</td>\n",
       "      <td>party invitation</td>\n",
       "    </tr>\n",
       "  </tbody>\n",
       "</table>\n",
       "<p>500 rows × 8 columns</p>\n",
       "</div>"
      ],
      "text/plain": [
       "        fname                                           dialogue  \\\n",
       "0      test_0  #Person1#: Ms. Dawson, I need you to take a di...   \n",
       "1      test_1  #Person1#: You're finally here! What took so l...   \n",
       "2      test_2  #Person1#: Kate, you never believe what's happ...   \n",
       "3      test_3  #Person1#: Happy Birthday, this is for you, Br...   \n",
       "4      test_4  #Person1#: This Olympic park is so big!\\n#Pers...   \n",
       "..        ...                                                ...   \n",
       "495  test_495  #Person1#: Hey, Charlie, do you want to come t...   \n",
       "496  test_496  #Person1#: How did you get interested in count...   \n",
       "497  test_497  #Person1#: Excuse me, Alice, I've never used t...   \n",
       "498  test_498  #Person1#: Matthew? Hi!\\n#Person2#: Steve! Hav...   \n",
       "499  test_499  #Person1#: Hey, Betsy, did you hear the great ...   \n",
       "\n",
       "                                              summary1  \\\n",
       "0    Ms. Dawson helps #Person1# to write a memo to ...   \n",
       "1    #Person2# arrives late because of traffic jam....   \n",
       "2    #Person1# tells Kate that Masha and Hero get d...   \n",
       "3    #Person1# and Brian are at the birthday party ...   \n",
       "4    #Person1# is surprised at the Olympic Stadium'...   \n",
       "..                                                 ...   \n",
       "495  Jack invites Charlie to play a new video game ...   \n",
       "496  #Person2# explains to #Person1# about how #Per...   \n",
       "497  Alice guides #Person1# to use the washing mach...   \n",
       "498  Steve is looking for a new place to live and M...   \n",
       "499  Frank invites Besty to the party to celebrate ...   \n",
       "\n",
       "                          topic1  \\\n",
       "0           communication method   \n",
       "1          public transportation   \n",
       "2                        divorce   \n",
       "3                 birthday party   \n",
       "4                Olympic Stadium   \n",
       "..                           ...   \n",
       "495        video game invitation   \n",
       "496  conversation about interest   \n",
       "497          campus conversation   \n",
       "498                house renting   \n",
       "499             party invitation   \n",
       "\n",
       "                                              summary2  \\\n",
       "0    In order to prevent employees from wasting tim...   \n",
       "1    #Person2# decides to follow #Person1#'s sugges...   \n",
       "2    #Person1# tells Kate that Masha and Hero are g...   \n",
       "3    #Person1# attends Brian's birthday party. Bria...   \n",
       "4    #Person2# shows #Person1# around the construct...   \n",
       "..                                                 ...   \n",
       "495  Jack asks Charlie to come over and play the ne...   \n",
       "496  #Person2# shares #Person2#'s career in the pas...   \n",
       "497  #Person1# asks Alice how to use the washing ma...   \n",
       "498  Matthew and Steve meet after a long time. Stev...   \n",
       "499  Frank invites Betsy to the big promotion party...   \n",
       "\n",
       "                                  topic2  \\\n",
       "0                         company policy   \n",
       "1                         transportation   \n",
       "2                                divorce   \n",
       "3                         birthday party   \n",
       "4                         sports stadium   \n",
       "..                                   ...   \n",
       "495  \\n\\nentertainment activity schedule   \n",
       "496                      work experience   \n",
       "497             campus life conversation   \n",
       "498                      finding a house   \n",
       "499           promotion party invitation   \n",
       "\n",
       "                                              summary3                  topic3  \n",
       "0    Ms. Dawson takes a dictation for #Person1# abo...               dictation  \n",
       "1    #Person2# complains to #Person1# about the tra...  discuss transportation  \n",
       "2    #Person1# and Kate talk about the divorce betw...         discuss divorce  \n",
       "3    #Person1# has a dance with Brian at Brian's bi...          birthday party  \n",
       "4    #Person2# introduces the Olympic Stadium's fin...         Olympic Stadium  \n",
       "..                                                 ...                     ...  \n",
       "495  Jack invites Charlie to play video games after...               play game  \n",
       "496  #Person2# tells #Person1# about #Person2#'s ow...           country music  \n",
       "497  #Person1# doesn't know how to use the washing ...         clothes washing  \n",
       "498  Steve has been looking for a place to live. Ma...            find a house  \n",
       "499  Frank invites Betsy to his party for his promo...        party invitation  \n",
       "\n",
       "[500 rows x 8 columns]"
      ]
     },
     "execution_count": 53,
     "metadata": {},
     "output_type": "execute_result"
    }
   ],
   "source": [
    "dialogsum_test_df"
   ]
  },
  {
   "cell_type": "code",
   "execution_count": 54,
   "id": "48447315",
   "metadata": {
    "scrolled": true
   },
   "outputs": [
    {
     "name": "stdout",
     "output_type": "stream",
     "text": [
      "#Person1#: What's wrong with you? Why are you scratching so much?\n",
      "#Person2#: I feel itchy! I can't stand it anymore! I think I may be coming down with something. I feel lightheaded and weak.\n",
      "#Person1#: Let me have a look. Whoa! Get away from me!\n",
      "#Person2#: What's wrong?\n",
      "#Person1#: I think you have chicken pox! You are contagious! Get away! Don't breathe on me!\n",
      "#Person2#: Maybe it's just a rash or an allergy! We can't be sure until I see a doctor.\n",
      "#Person1#: Well in the meantime you are a biohazard! I didn't get it when I was a kid and I've heard that you can even die if you get it as an adult!\n",
      "#Person2#: Are you serious? You always blow things out of proportion. In any case, I think I'll go take an oatmeal bath.\n",
      "\n",
      "\n",
      "\n",
      "#Person2# feels itchy. #Person1# doubts it is chicken pox and asks #Person2# to get away. #Person2# doesn't believe it.\n"
     ]
    }
   ],
   "source": [
    "print_ith_row(dialogsum_test_df, 6)"
   ]
  },
  {
   "cell_type": "code",
   "execution_count": 55,
   "id": "e295a1d8",
   "metadata": {},
   "outputs": [
    {
     "name": "stdout",
     "output_type": "stream",
     "text": [
      "FNAME\n",
      "test_0\n",
      "\n",
      "DIALOGUE\n",
      "#Person1#: Ms. Dawson, I need you to take a dictation for me.\n",
      "#Person2#: Yes, sir...\n",
      "#Person1#: This should go out as an intra-office memorandum to all employees by this afternoon. Are you ready?\n",
      "#Person2#: Yes, sir. Go ahead.\n",
      "#Person1#: Attention all staff... Effective immediately, all office communications are restricted to email correspondence and official memos. The use of Instant Message programs by employees during working hours is strictly prohibited.\n",
      "#Person2#: Sir, does this apply to intra-office communications only? Or will it also restrict external communications?\n",
      "#Person1#: It should apply to all communications, not only in this office between employees, but also any outside communications.\n",
      "#Person2#: But sir, many employees use Instant Messaging to communicate with their clients.\n",
      "#Person1#: They will just have to change their communication methods. I don't want any - one using Instant Messaging in this office. It wastes too much time! Now, please continue with the memo. Where were we?\n",
      "#Person2#: This applies to internal and external communications.\n",
      "#Person1#: Yes. Any employee who persists in using Instant Messaging will first receive a warning and be placed on probation. At second offense, the employee will face termination. Any questions regarding this new policy may be directed to department heads.\n",
      "#Person2#: Is that all?\n",
      "#Person1#: Yes. Please get this memo typed up and distributed to all employees before 4 pm.\n",
      "\n",
      "SUMMARY1\n",
      "Ms. Dawson helps #Person1# to write a memo to inform every employee that they have to change the communication method and should not use Instant Messaging anymore.\n",
      "\n",
      "TOPIC1\n",
      "communication method\n",
      "\n",
      "SUMMARY2\n",
      "In order to prevent employees from wasting time on Instant Message programs, #Person1# decides to terminate the use of those programs and asks Ms. Dawson to send out a memo to all employees by the afternoon.\n",
      "\n",
      "TOPIC2\n",
      "company policy\n",
      "\n",
      "SUMMARY3\n",
      "Ms. Dawson takes a dictation for #Person1# about prohibiting the use of Instant Message programs in the office. They argue about its reasonability but #Person1# still insists.\n",
      "\n",
      "TOPIC3\n",
      "dictation\n",
      "\n"
     ]
    }
   ],
   "source": [
    "print_nth_row(dialogsum_test_df)"
   ]
  },
  {
   "cell_type": "code",
   "execution_count": 56,
   "id": "0b743b4b",
   "metadata": {},
   "outputs": [],
   "source": [
    "dev_path = os.path.join(dialogsum_path, 'dialogsum.dev.jsonl')\n",
    "dialogsum_dev_df = pd.read_json(dev_path, lines=True)\n",
    "\n",
    "train_path = os.path.join(dialogsum_path, 'dialogsum.train.jsonl')\n",
    "dialogsum_train_df = pd.read_json(train_path, lines=True)"
   ]
  },
  {
   "cell_type": "code",
   "execution_count": 57,
   "id": "1b2fb18a",
   "metadata": {},
   "outputs": [
    {
     "name": "stdout",
     "output_type": "stream",
     "text": [
      "Trainsize 12460\n",
      "Devsize 500\n",
      "Testsize 500\n",
      "Total size 13460\n"
     ]
    }
   ],
   "source": [
    "dialogsum_df = print_size_and_concat({\n",
    "    'Train': dialogsum_train_df,\n",
    "    'Dev': dialogsum_dev_df,\n",
    "    'Test': dialogsum_test_df,\n",
    "})"
   ]
  },
  {
   "cell_type": "code",
   "execution_count": 58,
   "id": "2c47db52",
   "metadata": {},
   "outputs": [
    {
     "data": {
      "text/html": [
       "<div>\n",
       "<style scoped>\n",
       "    .dataframe tbody tr th:only-of-type {\n",
       "        vertical-align: middle;\n",
       "    }\n",
       "\n",
       "    .dataframe tbody tr th {\n",
       "        vertical-align: top;\n",
       "    }\n",
       "\n",
       "    .dataframe thead th {\n",
       "        text-align: right;\n",
       "    }\n",
       "</style>\n",
       "<table border=\"1\" class=\"dataframe\">\n",
       "  <thead>\n",
       "    <tr style=\"text-align: right;\">\n",
       "      <th></th>\n",
       "      <th>fname</th>\n",
       "      <th>dialogue</th>\n",
       "      <th>summary</th>\n",
       "      <th>topic</th>\n",
       "      <th>summary1</th>\n",
       "      <th>topic1</th>\n",
       "      <th>summary2</th>\n",
       "      <th>topic2</th>\n",
       "      <th>summary3</th>\n",
       "      <th>topic3</th>\n",
       "    </tr>\n",
       "  </thead>\n",
       "  <tbody>\n",
       "    <tr>\n",
       "      <th>39</th>\n",
       "      <td>train_39</td>\n",
       "      <td>#Person1#: Please make yourselves at home. Let...</td>\n",
       "      <td>Ellen and #Person3# visit Armand's house, and ...</td>\n",
       "      <td>have a dinner</td>\n",
       "      <td>NaN</td>\n",
       "      <td>NaN</td>\n",
       "      <td>NaN</td>\n",
       "      <td>NaN</td>\n",
       "      <td>NaN</td>\n",
       "      <td>NaN</td>\n",
       "    </tr>\n",
       "    <tr>\n",
       "      <th>236</th>\n",
       "      <td>train_236</td>\n",
       "      <td>#Person1#: This is ridiculous! I can't believe...</td>\n",
       "      <td>The doctor tells a lie to #Person1# and #Perso...</td>\n",
       "      <td>a lie</td>\n",
       "      <td>NaN</td>\n",
       "      <td>NaN</td>\n",
       "      <td>NaN</td>\n",
       "      <td>NaN</td>\n",
       "      <td>NaN</td>\n",
       "      <td>NaN</td>\n",
       "    </tr>\n",
       "    <tr>\n",
       "      <th>433</th>\n",
       "      <td>train_433</td>\n",
       "      <td>#Person1#: You know, I don't quite understand ...</td>\n",
       "      <td>#Person1#, #Person2#, and #Person3# are discus...</td>\n",
       "      <td>beauty and love</td>\n",
       "      <td>NaN</td>\n",
       "      <td>NaN</td>\n",
       "      <td>NaN</td>\n",
       "      <td>NaN</td>\n",
       "      <td>NaN</td>\n",
       "      <td>NaN</td>\n",
       "    </tr>\n",
       "    <tr>\n",
       "      <th>476</th>\n",
       "      <td>train_476</td>\n",
       "      <td>#Person1#: Stay with me, kids. Don't get lost....</td>\n",
       "      <td>#Person1# asks #Person2# and #Person3# to stay...</td>\n",
       "      <td>in the supermarket</td>\n",
       "      <td>NaN</td>\n",
       "      <td>NaN</td>\n",
       "      <td>NaN</td>\n",
       "      <td>NaN</td>\n",
       "      <td>NaN</td>\n",
       "      <td>NaN</td>\n",
       "    </tr>\n",
       "    <tr>\n",
       "      <th>574</th>\n",
       "      <td>train_574</td>\n",
       "      <td>#Person1#: Hey, look at these paintings on the...</td>\n",
       "      <td>Linda bought good paintings. #Person1#, Cindy ...</td>\n",
       "      <td>Chinese habits</td>\n",
       "      <td>NaN</td>\n",
       "      <td>NaN</td>\n",
       "      <td>NaN</td>\n",
       "      <td>NaN</td>\n",
       "      <td>NaN</td>\n",
       "      <td>NaN</td>\n",
       "    </tr>\n",
       "    <tr>\n",
       "      <th>...</th>\n",
       "      <td>...</td>\n",
       "      <td>...</td>\n",
       "      <td>...</td>\n",
       "      <td>...</td>\n",
       "      <td>...</td>\n",
       "      <td>...</td>\n",
       "      <td>...</td>\n",
       "      <td>...</td>\n",
       "      <td>...</td>\n",
       "      <td>...</td>\n",
       "    </tr>\n",
       "    <tr>\n",
       "      <th>440</th>\n",
       "      <td>dev_440</td>\n",
       "      <td>#Person1#: Susan has got the cancer of stomach...</td>\n",
       "      <td>#Person1# tells #Person2# Susan got stomach ca...</td>\n",
       "      <td>stomach cancer</td>\n",
       "      <td>NaN</td>\n",
       "      <td>NaN</td>\n",
       "      <td>NaN</td>\n",
       "      <td>NaN</td>\n",
       "      <td>NaN</td>\n",
       "      <td>NaN</td>\n",
       "    </tr>\n",
       "    <tr>\n",
       "      <th>140</th>\n",
       "      <td>test_140</td>\n",
       "      <td>#Person1#: Honey, of course I forgive you! I l...</td>\n",
       "      <td>NaN</td>\n",
       "      <td>NaN</td>\n",
       "      <td>#Person1# calls #Person2# to tell him that she...</td>\n",
       "      <td>pregnancy</td>\n",
       "      <td>#Person1# calls #Person2# to tell him that she...</td>\n",
       "      <td>pregnant</td>\n",
       "      <td>#Person1# apologises to #Person2# after the qu...</td>\n",
       "      <td>pregnancy test</td>\n",
       "    </tr>\n",
       "    <tr>\n",
       "      <th>293</th>\n",
       "      <td>test_293</td>\n",
       "      <td>#Person1#: Good evening, Pete. I trust you had...</td>\n",
       "      <td>NaN</td>\n",
       "      <td>NaN</td>\n",
       "      <td>#Person1# introduces Henry to Pete. The three ...</td>\n",
       "      <td>\\nintroducing new friend</td>\n",
       "      <td>#Person1# introduces Henry Johnson, an expat i...</td>\n",
       "      <td>gathering</td>\n",
       "      <td>#Person1# introduces Henry Johnson to Pete for...</td>\n",
       "      <td>social meeting</td>\n",
       "    </tr>\n",
       "    <tr>\n",
       "      <th>336</th>\n",
       "      <td>test_336</td>\n",
       "      <td>#Person1#: Hello sir, welcome to the French Ga...</td>\n",
       "      <td>NaN</td>\n",
       "      <td>NaN</td>\n",
       "      <td>#Person2# is at French Garden Restaurant and h...</td>\n",
       "      <td>order food</td>\n",
       "      <td>#Person1# helps #Person2# find a seat and #Per...</td>\n",
       "      <td>restaurant service</td>\n",
       "      <td>#Person2# orders some food with #Person3#'s he...</td>\n",
       "      <td>in a restaurant</td>\n",
       "    </tr>\n",
       "    <tr>\n",
       "      <th>358</th>\n",
       "      <td>test_358</td>\n",
       "      <td>#Person1#: Hello.\\n#Person2#: Hello. May I spe...</td>\n",
       "      <td>NaN</td>\n",
       "      <td>NaN</td>\n",
       "      <td>Mark's absence was the result of a hangover. B...</td>\n",
       "      <td>telephone chat</td>\n",
       "      <td>Mark did't come in because of a hangover. Jill...</td>\n",
       "      <td>colleague call</td>\n",
       "      <td>Mark didn't come in today because of a terribl...</td>\n",
       "      <td>a phone call</td>\n",
       "    </tr>\n",
       "  </tbody>\n",
       "</table>\n",
       "<p>136 rows × 10 columns</p>\n",
       "</div>"
      ],
      "text/plain": [
       "         fname                                           dialogue  \\\n",
       "39    train_39  #Person1#: Please make yourselves at home. Let...   \n",
       "236  train_236  #Person1#: This is ridiculous! I can't believe...   \n",
       "433  train_433  #Person1#: You know, I don't quite understand ...   \n",
       "476  train_476  #Person1#: Stay with me, kids. Don't get lost....   \n",
       "574  train_574  #Person1#: Hey, look at these paintings on the...   \n",
       "..         ...                                                ...   \n",
       "440    dev_440  #Person1#: Susan has got the cancer of stomach...   \n",
       "140   test_140  #Person1#: Honey, of course I forgive you! I l...   \n",
       "293   test_293  #Person1#: Good evening, Pete. I trust you had...   \n",
       "336   test_336  #Person1#: Hello sir, welcome to the French Ga...   \n",
       "358   test_358  #Person1#: Hello.\\n#Person2#: Hello. May I spe...   \n",
       "\n",
       "                                               summary               topic  \\\n",
       "39   Ellen and #Person3# visit Armand's house, and ...       have a dinner   \n",
       "236  The doctor tells a lie to #Person1# and #Perso...               a lie   \n",
       "433  #Person1#, #Person2#, and #Person3# are discus...     beauty and love   \n",
       "476  #Person1# asks #Person2# and #Person3# to stay...  in the supermarket   \n",
       "574  Linda bought good paintings. #Person1#, Cindy ...      Chinese habits   \n",
       "..                                                 ...                 ...   \n",
       "440  #Person1# tells #Person2# Susan got stomach ca...      stomach cancer   \n",
       "140                                                NaN                 NaN   \n",
       "293                                                NaN                 NaN   \n",
       "336                                                NaN                 NaN   \n",
       "358                                                NaN                 NaN   \n",
       "\n",
       "                                              summary1  \\\n",
       "39                                                 NaN   \n",
       "236                                                NaN   \n",
       "433                                                NaN   \n",
       "476                                                NaN   \n",
       "574                                                NaN   \n",
       "..                                                 ...   \n",
       "440                                                NaN   \n",
       "140  #Person1# calls #Person2# to tell him that she...   \n",
       "293  #Person1# introduces Henry to Pete. The three ...   \n",
       "336  #Person2# is at French Garden Restaurant and h...   \n",
       "358  Mark's absence was the result of a hangover. B...   \n",
       "\n",
       "                       topic1  \\\n",
       "39                        NaN   \n",
       "236                       NaN   \n",
       "433                       NaN   \n",
       "476                       NaN   \n",
       "574                       NaN   \n",
       "..                        ...   \n",
       "440                       NaN   \n",
       "140                 pregnancy   \n",
       "293  \\nintroducing new friend   \n",
       "336                order food   \n",
       "358            telephone chat   \n",
       "\n",
       "                                              summary2              topic2  \\\n",
       "39                                                 NaN                 NaN   \n",
       "236                                                NaN                 NaN   \n",
       "433                                                NaN                 NaN   \n",
       "476                                                NaN                 NaN   \n",
       "574                                                NaN                 NaN   \n",
       "..                                                 ...                 ...   \n",
       "440                                                NaN                 NaN   \n",
       "140  #Person1# calls #Person2# to tell him that she...            pregnant   \n",
       "293  #Person1# introduces Henry Johnson, an expat i...           gathering   \n",
       "336  #Person1# helps #Person2# find a seat and #Per...  restaurant service   \n",
       "358  Mark did't come in because of a hangover. Jill...      colleague call   \n",
       "\n",
       "                                              summary3           topic3  \n",
       "39                                                 NaN              NaN  \n",
       "236                                                NaN              NaN  \n",
       "433                                                NaN              NaN  \n",
       "476                                                NaN              NaN  \n",
       "574                                                NaN              NaN  \n",
       "..                                                 ...              ...  \n",
       "440                                                NaN              NaN  \n",
       "140  #Person1# apologises to #Person2# after the qu...   pregnancy test  \n",
       "293  #Person1# introduces Henry Johnson to Pete for...   social meeting  \n",
       "336  #Person2# orders some food with #Person3#'s he...  in a restaurant  \n",
       "358  Mark didn't come in today because of a terribl...     a phone call  \n",
       "\n",
       "[136 rows x 10 columns]"
      ]
     },
     "execution_count": 58,
     "metadata": {},
     "output_type": "execute_result"
    }
   ],
   "source": [
    "tmp_df = dialogsum_df[dialogsum_df['dialogue'].str.contains('#Person3#') == True]\n",
    "tmp_df"
   ]
  },
  {
   "cell_type": "code",
   "execution_count": 59,
   "id": "2c9831cb",
   "metadata": {},
   "outputs": [
    {
     "name": "stdout",
     "output_type": "stream",
     "text": [
      "Multiparty dialogue available: False\n"
     ]
    }
   ],
   "source": [
    "regex = '#Person\\w+#'\n",
    "topics = defaultdict(lambda: 0)\n",
    "multi_party = False\n",
    "len_person_1 = 0\n",
    "len_person_2 = 0\n",
    "for index, rows in dialogsum_df.iterrows():\n",
    "    for t in ['topic1', 'topic2', 'topic3']:\n",
    "        s = rows[t]\n",
    "        topics[s] += 1\n",
    "    \n",
    "    dialogue = rows['dialogue']\n",
    "    multi_party = len(set(re.findall(regex, dialogue))) > 2\n",
    "    for line in dialogue.split('\\n'):\n",
    "        length = len(line) - len('#PersonX#: ')\n",
    "        if 'Person1' in line:\n",
    "            len_person_1 += length\n",
    "        else:\n",
    "            len_person_2 += length\n",
    "            \n",
    "print('Multiparty dialogue available:', multi_party)"
   ]
  },
  {
   "cell_type": "code",
   "execution_count": 60,
   "id": "3bd47ea0",
   "metadata": {},
   "outputs": [
    {
     "name": "stdout",
     "output_type": "stream",
     "text": [
      "1155 topics in total\n",
      "\n",
      "an eyelash curler\n",
      "Thanksgiving Day\n",
      "plan to run a farm\n",
      "a new puppy\n",
      "food for dinner\n",
      "companies competition\n",
      "workplace dressing style\n",
      "different impressions\n",
      "use the library\n",
      "employment requests\n"
     ]
    }
   ],
   "source": [
    "print(len(topics), 'topics in total\\n')\n",
    "\n",
    "for s in sample(topics.keys(), 10):\n",
    "    print(s)"
   ]
  },
  {
   "cell_type": "code",
   "execution_count": 61,
   "id": "10fcc1c7",
   "metadata": {},
   "outputs": [
    {
     "data": {
      "text/plain": [
       "0"
      ]
     },
     "execution_count": 61,
     "metadata": {},
     "output_type": "execute_result"
    }
   ],
   "source": [
    "topics['nan']"
   ]
  },
  {
   "cell_type": "code",
   "execution_count": 62,
   "id": "39ca2ad3",
   "metadata": {},
   "outputs": [
    {
     "name": "stdout",
     "output_type": "stream",
     "text": [
      "nan 38880\n",
      "transportation 4\n",
      "divorce 4\n",
      "birthday party 5\n",
      "shopping 19\n",
      "job interview 15\n",
      "restaurant service 7\n",
      "farewell 4\n",
      "buying a house 4\n",
      "phone call 5\n",
      "ask directions 4\n",
      "pregnancy 4\n",
      "work talk 4\n",
      "picnic 5\n",
      "borrow money 9\n",
      "diet 5\n",
      "holiday plan 6\n",
      "Chinese cuisine 4\n",
      "interview 4\n",
      "weather 4\n",
      "ask for help 6\n",
      "asking for help 4\n",
      "ordering food 5\n",
      "order food 9\n",
      "restaurant 5\n",
      "daily conversation 5\n",
      "food ordering 5\n",
      "in a restaurant 4\n",
      "luggage storage 4\n",
      "\n",
      "38880\n"
     ]
    }
   ],
   "source": [
    "max_no = 0\n",
    "NAN_key = ''\n",
    "for k in topics:\n",
    "    if max_no < topics[k]:\n",
    "        NAN_key = k\n",
    "        max_no = max(max_no, topics[k])\n",
    "    \n",
    "    if topics[k] > 3:\n",
    "        print(k, topics[k])\n",
    "        \n",
    "print(f'\\n{max_no}')"
   ]
  },
  {
   "cell_type": "code",
   "execution_count": 63,
   "id": "7daa5f40",
   "metadata": {},
   "outputs": [
    {
     "data": {
      "text/plain": [
       "<BarContainer object of 1155 artists>"
      ]
     },
     "execution_count": 63,
     "metadata": {},
     "output_type": "execute_result"
    },
    {
     "data": {
      "image/png": "[encoded data removed]",
      "text/plain": [
       "<Figure size 432x288 with 1 Axes>"
      ]
     },
     "metadata": {
      "needs_background": "light"
     },
     "output_type": "display_data"
    }
   ],
   "source": [
    "import math\n",
    "\n",
    "tmp = dict(topics.copy())\n",
    "del tmp[NAN_key]\n",
    "x = list(tmp.keys())\n",
    "y = list(tmp.values())\n",
    "yint = range(0, math.ceil(max(y))+1)\n",
    "plt.yticks(yint)\n",
    "plt.tick_params(\n",
    "    axis='x',\n",
    "    which='both',\n",
    "    bottom=False,\n",
    "    top=False,\n",
    "    labelbottom=False)\n",
    "plt.bar(x, y)"
   ]
  },
  {
   "cell_type": "code",
   "execution_count": 68,
   "id": "aadbcd94",
   "metadata": {},
   "outputs": [
    {
     "name": "stdout",
     "output_type": "stream",
     "text": [
      "Percentage Speaker 1: 49.18231341117635%\n",
      "Percentage Speaker 2: 50.817686588823655%\n"
     ]
    },
    {
     "data": {
      "image/png": "[encoded data removed]",
      "text/plain": [
       "<Figure size 432x288 with 1 Axes>"
      ]
     },
     "metadata": {
      "needs_background": "light"
     },
     "output_type": "display_data"
    }
   ],
   "source": [
    "labels = ['Person 1', 'Person 2']\n",
    "plt.bar(labels, [len_person_1, len_person_2])\n",
    "plt.ylabel('String length')\n",
    "plt.savefig('dialogsum_distribution.png')\n",
    "total_length = len_person_1 + len_person_2\n",
    "percent_1 = len_person_1 / total_length * 100\n",
    "percent_2 = len_person_2 / total_length * 100\n",
    "print(f'Percentage Speaker 1: {percent_1}%')\n",
    "print(f'Percentage Speaker 2: {percent_2}%')"
   ]
  },
  {
   "cell_type": "code",
   "execution_count": 69,
   "id": "14e91fe7",
   "metadata": {},
   "outputs": [
    {
     "name": "stdout",
     "output_type": "stream",
     "text": [
      "#Person1#: Good morning. What can I do for you?\n",
      "#Person2#: Well, I hate to disturb you, but I really can't stand it any more. Can you change my room for me? It's too noisy. I was woken up several times by the noise the baggage elevator made. It was too much for me.\n",
      "#Person1#: I'm sorry to hear that. This room is at the end of the corridor. It's possible that the noise is heard early in the morning when everything is quiet.\n",
      "#Person2#: Anyhow, I'd like to change my room.\n",
      "#Person1#: I'm awfully sorry, Miss. I do apologize. We'll manage it, but we don't have any spare room today. Could you wait till tomorrow? A tour company will be leaving tomorrow morning. There'll be some rooms for you to choose from.\n",
      "#Person2#: All right. I hope I'll be able to enjoy my stay in a quiet suite tomorrow evening and have a sound sleep.\n",
      "#Person1#: Be sure. And if there is anything more you need, please let us know.\n",
      "#Person2#: OK. Thank you.\n",
      "#Person1#: You're welcome. I hope you'll be more comfortable in your new room.\n"
     ]
    }
   ],
   "source": [
    "        print(\"#Person1#: Good morning. What can I do for you?\\n#Person2#: Well, I hate to disturb you, but I really can't stand it any more. Can you change my room for me? It's too noisy. I was woken up several times by the noise the baggage elevator made. It was too much for me.\\n#Person1#: I'm sorry to hear that. This room is at the end of the corridor. It's possible that the noise is heard early in the morning when everything is quiet.\\n#Person2#: Anyhow, I'd like to change my room.\\n#Person1#: I'm awfully sorry, Miss. I do apologize. We'll manage it, but we don't have any spare room today. Could you wait till tomorrow? A tour company will be leaving tomorrow morning. There'll be some rooms for you to choose from.\\n#Person2#: All right. I hope I'll be able to enjoy my stay in a quiet suite tomorrow evening and have a sound sleep.\\n#Person1#: Be sure. And if there is anything more you need, please let us know.\\n#Person2#: OK. Thank you.\\n#Person1#: You're welcome. I hope you'll be more comfortable in your new room.\")"
   ]
  },
  {
   "cell_type": "markdown",
   "id": "6a0dd217",
   "metadata": {},
   "source": [
    "# SAMSum"
   ]
  },
  {
   "cell_type": "code",
   "execution_count": 31,
   "id": "8752e028",
   "metadata": {},
   "outputs": [],
   "source": [
    "from pandas.io.json import json_normalize\n",
    "\n",
    "def create_df_samsum(path):\n",
    "    with open(path, 'r') as f:\n",
    "        d = json.load(f)\n",
    "    \n",
    "    df = pd.DataFrame(d)\n",
    "    return df\n",
    "\n",
    "\n",
    "test_path = os.path.join(samsum_path, 'test.json')\n",
    "samsum_test_df = create_df_samsum(test_path)\n",
    "val_path = os.path.join(samsum_path, 'val.json')\n",
    "samsum_val_df = create_df_samsum(val_path)\n",
    "train_path = os.path.join(samsum_path, 'train.json')\n",
    "samsum_train_df = create_df_samsum(train_path)\n"
   ]
  },
  {
   "cell_type": "code",
   "execution_count": 32,
   "id": "1be4f2ab",
   "metadata": {},
   "outputs": [
    {
     "data": {
      "text/html": [
       "<div>\n",
       "<style scoped>\n",
       "    .dataframe tbody tr th:only-of-type {\n",
       "        vertical-align: middle;\n",
       "    }\n",
       "\n",
       "    .dataframe tbody tr th {\n",
       "        vertical-align: top;\n",
       "    }\n",
       "\n",
       "    .dataframe thead th {\n",
       "        text-align: right;\n",
       "    }\n",
       "</style>\n",
       "<table border=\"1\" class=\"dataframe\">\n",
       "  <thead>\n",
       "    <tr style=\"text-align: right;\">\n",
       "      <th></th>\n",
       "      <th>id</th>\n",
       "      <th>summary</th>\n",
       "      <th>dialogue</th>\n",
       "    </tr>\n",
       "  </thead>\n",
       "  <tbody>\n",
       "    <tr>\n",
       "      <th>0</th>\n",
       "      <td>13862856</td>\n",
       "      <td>Hannah needs Betty's number but Amanda doesn't...</td>\n",
       "      <td>Hannah: Hey, do you have Betty's number?\\nAman...</td>\n",
       "    </tr>\n",
       "    <tr>\n",
       "      <th>1</th>\n",
       "      <td>13729565</td>\n",
       "      <td>Eric and Rob are going to watch a stand-up on ...</td>\n",
       "      <td>Eric: MACHINE!\\r\\nRob: That's so gr8!\\r\\nEric:...</td>\n",
       "    </tr>\n",
       "    <tr>\n",
       "      <th>2</th>\n",
       "      <td>13680171</td>\n",
       "      <td>Lenny can't decide which trousers to buy. Bob ...</td>\n",
       "      <td>Lenny: Babe, can you help me with something?\\r...</td>\n",
       "    </tr>\n",
       "    <tr>\n",
       "      <th>3</th>\n",
       "      <td>13729438</td>\n",
       "      <td>Emma will be home soon and she will let Will k...</td>\n",
       "      <td>Will: hey babe, what do you want for dinner to...</td>\n",
       "    </tr>\n",
       "    <tr>\n",
       "      <th>4</th>\n",
       "      <td>13828600</td>\n",
       "      <td>Jane is in Warsaw. Ollie and Jane has a party....</td>\n",
       "      <td>Ollie: Hi , are you in Warsaw\\r\\nJane: yes, ju...</td>\n",
       "    </tr>\n",
       "    <tr>\n",
       "      <th>...</th>\n",
       "      <td>...</td>\n",
       "      <td>...</td>\n",
       "      <td>...</td>\n",
       "    </tr>\n",
       "    <tr>\n",
       "      <th>814</th>\n",
       "      <td>13611902-1</td>\n",
       "      <td>Benjamin didn't come to see a basketball game ...</td>\n",
       "      <td>Alex: Were you able to attend Friday night's b...</td>\n",
       "    </tr>\n",
       "    <tr>\n",
       "      <th>815</th>\n",
       "      <td>13820989</td>\n",
       "      <td>The audition starts at 7.30 P.M. in Antena 3.</td>\n",
       "      <td>Jamilla: remember that the audition starts at ...</td>\n",
       "    </tr>\n",
       "    <tr>\n",
       "      <th>816</th>\n",
       "      <td>13717193</td>\n",
       "      <td>Marta sent a file accidentally,</td>\n",
       "      <td>Marta: &lt;file_gif&gt;\\r\\nMarta: Sorry girls, I cli...</td>\n",
       "    </tr>\n",
       "    <tr>\n",
       "      <th>817</th>\n",
       "      <td>13829115</td>\n",
       "      <td>There was a meet-and-greet with James Charles ...</td>\n",
       "      <td>Cora: Have you heard how much fuss British med...</td>\n",
       "    </tr>\n",
       "    <tr>\n",
       "      <th>818</th>\n",
       "      <td>13818810</td>\n",
       "      <td>Rachel sends a list of Top 50 films of 2018. J...</td>\n",
       "      <td>Rachel: &lt;file_other&gt;\\r\\nRachel: Top 50 Best Fi...</td>\n",
       "    </tr>\n",
       "  </tbody>\n",
       "</table>\n",
       "<p>819 rows × 3 columns</p>\n",
       "</div>"
      ],
      "text/plain": [
       "             id                                            summary  \\\n",
       "0      13862856  Hannah needs Betty's number but Amanda doesn't...   \n",
       "1      13729565  Eric and Rob are going to watch a stand-up on ...   \n",
       "2      13680171  Lenny can't decide which trousers to buy. Bob ...   \n",
       "3      13729438  Emma will be home soon and she will let Will k...   \n",
       "4      13828600  Jane is in Warsaw. Ollie and Jane has a party....   \n",
       "..          ...                                                ...   \n",
       "814  13611902-1  Benjamin didn't come to see a basketball game ...   \n",
       "815    13820989      The audition starts at 7.30 P.M. in Antena 3.   \n",
       "816    13717193                    Marta sent a file accidentally,   \n",
       "817    13829115  There was a meet-and-greet with James Charles ...   \n",
       "818    13818810  Rachel sends a list of Top 50 films of 2018. J...   \n",
       "\n",
       "                                              dialogue  \n",
       "0    Hannah: Hey, do you have Betty's number?\\nAman...  \n",
       "1    Eric: MACHINE!\\r\\nRob: That's so gr8!\\r\\nEric:...  \n",
       "2    Lenny: Babe, can you help me with something?\\r...  \n",
       "3    Will: hey babe, what do you want for dinner to...  \n",
       "4    Ollie: Hi , are you in Warsaw\\r\\nJane: yes, ju...  \n",
       "..                                                 ...  \n",
       "814  Alex: Were you able to attend Friday night's b...  \n",
       "815  Jamilla: remember that the audition starts at ...  \n",
       "816  Marta: <file_gif>\\r\\nMarta: Sorry girls, I cli...  \n",
       "817  Cora: Have you heard how much fuss British med...  \n",
       "818  Rachel: <file_other>\\r\\nRachel: Top 50 Best Fi...  \n",
       "\n",
       "[819 rows x 3 columns]"
      ]
     },
     "execution_count": 32,
     "metadata": {},
     "output_type": "execute_result"
    }
   ],
   "source": [
    "samsum_test_df"
   ]
  },
  {
   "cell_type": "code",
   "execution_count": 33,
   "id": "5f7a42f6",
   "metadata": {},
   "outputs": [
    {
     "name": "stdout",
     "output_type": "stream",
     "text": [
      "Trainsize 14732\n",
      "Valsize 818\n",
      "Testsize 819\n",
      "Total size 16369\n"
     ]
    }
   ],
   "source": [
    "samsum_df = print_size_and_concat({\n",
    "    'Train': samsum_train_df,\n",
    "    'Val': samsum_val_df,\n",
    "    'Test': samsum_test_df\n",
    "})\n",
    "samsum_df.reset_index(inplace=True)"
   ]
  },
  {
   "cell_type": "code",
   "execution_count": 34,
   "id": "421d418f",
   "metadata": {},
   "outputs": [
    {
     "data": {
      "text/html": [
       "<div>\n",
       "<style scoped>\n",
       "    .dataframe tbody tr th:only-of-type {\n",
       "        vertical-align: middle;\n",
       "    }\n",
       "\n",
       "    .dataframe tbody tr th {\n",
       "        vertical-align: top;\n",
       "    }\n",
       "\n",
       "    .dataframe thead th {\n",
       "        text-align: right;\n",
       "    }\n",
       "</style>\n",
       "<table border=\"1\" class=\"dataframe\">\n",
       "  <thead>\n",
       "    <tr style=\"text-align: right;\">\n",
       "      <th></th>\n",
       "      <th>index</th>\n",
       "      <th>id</th>\n",
       "      <th>summary</th>\n",
       "      <th>dialogue</th>\n",
       "    </tr>\n",
       "  </thead>\n",
       "  <tbody>\n",
       "    <tr>\n",
       "      <th>0</th>\n",
       "      <td>0</td>\n",
       "      <td>13818513</td>\n",
       "      <td>Amanda baked cookies and will bring Jerry some...</td>\n",
       "      <td>Amanda: I baked  cookies. Do you want some?\\r\\...</td>\n",
       "    </tr>\n",
       "    <tr>\n",
       "      <th>1</th>\n",
       "      <td>1</td>\n",
       "      <td>13728867</td>\n",
       "      <td>Olivia and Olivier are voting for liberals in ...</td>\n",
       "      <td>Olivia: Who are you voting for in this electio...</td>\n",
       "    </tr>\n",
       "    <tr>\n",
       "      <th>2</th>\n",
       "      <td>2</td>\n",
       "      <td>13681000</td>\n",
       "      <td>Kim may try the pomodoro technique recommended...</td>\n",
       "      <td>Tim: Hi, what's up?\\r\\nKim: Bad mood tbh, I wa...</td>\n",
       "    </tr>\n",
       "    <tr>\n",
       "      <th>3</th>\n",
       "      <td>3</td>\n",
       "      <td>13730747</td>\n",
       "      <td>Edward thinks he is in love with Bella. Rachel...</td>\n",
       "      <td>Edward: Rachel, I think I'm in ove with Bella....</td>\n",
       "    </tr>\n",
       "    <tr>\n",
       "      <th>4</th>\n",
       "      <td>4</td>\n",
       "      <td>13728094</td>\n",
       "      <td>Sam is confused, because he overheard Rick com...</td>\n",
       "      <td>Sam: hey  overheard rick say something\\r\\nSam:...</td>\n",
       "    </tr>\n",
       "  </tbody>\n",
       "</table>\n",
       "</div>"
      ],
      "text/plain": [
       "   index        id                                            summary  \\\n",
       "0      0  13818513  Amanda baked cookies and will bring Jerry some...   \n",
       "1      1  13728867  Olivia and Olivier are voting for liberals in ...   \n",
       "2      2  13681000  Kim may try the pomodoro technique recommended...   \n",
       "3      3  13730747  Edward thinks he is in love with Bella. Rachel...   \n",
       "4      4  13728094  Sam is confused, because he overheard Rick com...   \n",
       "\n",
       "                                            dialogue  \n",
       "0  Amanda: I baked  cookies. Do you want some?\\r\\...  \n",
       "1  Olivia: Who are you voting for in this electio...  \n",
       "2  Tim: Hi, what's up?\\r\\nKim: Bad mood tbh, I wa...  \n",
       "3  Edward: Rachel, I think I'm in ove with Bella....  \n",
       "4  Sam: hey  overheard rick say something\\r\\nSam:...  "
      ]
     },
     "execution_count": 34,
     "metadata": {},
     "output_type": "execute_result"
    }
   ],
   "source": [
    "samsum_df.head()"
   ]
  },
  {
   "cell_type": "code",
   "execution_count": 35,
   "id": "15f9b5fd",
   "metadata": {},
   "outputs": [],
   "source": [
    "i = 0"
   ]
  },
  {
   "cell_type": "code",
   "execution_count": 36,
   "id": "44d4b01a",
   "metadata": {},
   "outputs": [
    {
     "name": "stdout",
     "output_type": "stream",
     "text": [
      "INDEX\n",
      "0\n",
      "\n",
      "ID\n",
      "13818513\n",
      "\n",
      "SUMMARY\n",
      "Amanda baked cookies and will bring Jerry some tomorrow.\n",
      "\n",
      "DIALOGUE\n",
      "Amanda: I baked  cookies. Do you want some?\r\n",
      "Jerry: Sure!\r\n",
      "Amanda: I'll bring you tomorrow :-)\n",
      "\n"
     ]
    }
   ],
   "source": [
    "print_nth_row(samsum_df, i)\n",
    "i += 1"
   ]
  },
  {
   "cell_type": "code",
   "execution_count": 37,
   "id": "6998ba55",
   "metadata": {},
   "outputs": [
    {
     "data": {
      "application/vnd.jupyter.widget-view+json": {
       "model_id": "992292a3edeb43dbaea6f904acb5edac",
       "version_major": 2,
       "version_minor": 0
      },
      "text/plain": [
       "0it [00:00, ?it/s]"
      ]
     },
     "metadata": {},
     "output_type": "display_data"
    }
   ],
   "source": [
    "from tqdm.notebook import tqdm\n",
    "\n",
    "def count_participants(df):\n",
    "    counts = {}\n",
    "    failures = []\n",
    "    two_persons = []\n",
    "    for i, row in tqdm(df.iterrows()):\n",
    "        dlg = row['dialogue']\n",
    "        if len(dlg) == 0:\n",
    "            failures.append(i)\n",
    "            continue\n",
    "            \n",
    "        speakers = get_speaker(dlg)\n",
    "        no_speakers = len(set(speakers))\n",
    "        if no_speakers not in counts:\n",
    "            counts[no_speakers] = 0\n",
    "        counts[no_speakers] += 1\n",
    "        if no_speakers == 2:\n",
    "            two_persons.append(dlg)\n",
    "    \n",
    "    return counts, failures, two_persons\n",
    "    \n",
    "def get_speaker(dlg):\n",
    "    utts = dlg.split('\\n')\n",
    "    speakers = set()\n",
    "    for utt in utts:\n",
    "        speaker = ''\n",
    "        for c in utt:\n",
    "            if c == ':':\n",
    "                speakers.add(speaker)\n",
    "                break\n",
    "            speaker += c\n",
    "    \n",
    "    return speakers\n",
    "        \n",
    "\n",
    "speaker_count, failures,two_persons = count_participants(samsum_df)"
   ]
  },
  {
   "cell_type": "code",
   "execution_count": 38,
   "id": "855c7a16",
   "metadata": {},
   "outputs": [
    {
     "data": {
      "text/plain": [
       "({2: 11946,\n",
       "  3: 3121,\n",
       "  4: 923,\n",
       "  9: 14,\n",
       "  5: 210,\n",
       "  7: 32,\n",
       "  6: 87,\n",
       "  12: 3,\n",
       "  8: 16,\n",
       "  11: 6,\n",
       "  10: 6,\n",
       "  13: 2,\n",
       "  14: 2},\n",
       " [6054],\n",
       " 11946)"
      ]
     },
     "execution_count": 38,
     "metadata": {},
     "output_type": "execute_result"
    }
   ],
   "source": [
    "speaker_count, failures, len(two_persons)"
   ]
  },
  {
   "cell_type": "code",
   "execution_count": 310,
   "id": "c7e29a9a",
   "metadata": {},
   "outputs": [
    {
     "name": "stdout",
     "output_type": "stream",
     "text": [
      "Percentage of 2-Speaker-Dialogues: 73.1932311075814%\n"
     ]
    },
    {
     "data": {
      "image/png": "[encoded data removed]",
      "text/plain": [
       "<Figure size 432x288 with 1 Axes>"
      ]
     },
     "metadata": {
      "needs_background": "light"
     },
     "output_type": "display_data"
    }
   ],
   "source": [
    "labels = [k for k in speaker_count]\n",
    "plt.bar(labels, [v for v in speaker_count.values()])\n",
    "plt.yscale('log')\n",
    "plt.xlabel('No. Speakers')\n",
    "plt.ylabel('Amount')\n",
    "plt.title('SAMSUM Corpus (Log-Scale)')\n",
    "\n",
    "total_length = len(samsum_df)\n",
    "percentage = speaker_count[2] / total_length * 100\n",
    "print(f'Percentage of 2-Speaker-Dialogues: {percentage}%')"
   ]
  },
  {
   "cell_type": "code",
   "execution_count": 311,
   "id": "70421287",
   "metadata": {},
   "outputs": [
    {
     "name": "stdout",
     "output_type": "stream",
     "text": [
      "Percentage of 2-Speaker-Dialogues: 73.1932311075814%\n"
     ]
    },
    {
     "data": {
      "image/png": "[encoded data removed]",
      "text/plain": [
       "<Figure size 432x288 with 1 Axes>"
      ]
     },
     "metadata": {
      "needs_background": "light"
     },
     "output_type": "display_data"
    }
   ],
   "source": [
    "labels = [k for k in speaker_count]\n",
    "plt.bar(labels, [v for v in speaker_count.values()])\n",
    "plt.xlabel('No. Speakers')\n",
    "plt.ylabel('Amount')\n",
    "plt.title('SAMSUM Corpus')\n",
    "\n",
    "total_length = len(samsum_df)\n",
    "percentage = speaker_count[2] / total_length * 100\n",
    "print(f'Percentage of 2-Speaker-Dialogues: {percentage}%')"
   ]
  },
  {
   "cell_type": "code",
   "execution_count": 41,
   "id": "a3af0976",
   "metadata": {},
   "outputs": [],
   "source": [
    "def strip_name(dlg):\n",
    "    utts = dlg.split('\\r\\n')\n",
    "    p_1 = []\n",
    "    p_2 = []\n",
    "    for idx, utt in enumerate(utts):\n",
    "        statement = utt.split(': ')[1]\n",
    "        if (idx+1) % 2 != 0:\n",
    "            p_2.append(statement)\n",
    "        else:\n",
    "            p_1.append(statement)\n",
    "            \n",
    "    return p_1, p_2"
   ]
  },
  {
   "cell_type": "code",
   "execution_count": 45,
   "id": "f747f1e0",
   "metadata": {},
   "outputs": [],
   "source": [
    "len_person_1 = 0\n",
    "len_person_2 = 0\n",
    "for dialogue in two_persons:\n",
    "    dialogue = rows['dialogue']\n",
    "    p_1, p_2 = strip_name(dialogue)\n",
    "    len_person_1 += len(p_1)\n",
    "    len_person_2 += len(p_2)\n",
    "\n",
    "total_length = speaker_count[2]"
   ]
  },
  {
   "cell_type": "code",
   "execution_count": 48,
   "id": "13d83b4d",
   "metadata": {},
   "outputs": [
    {
     "data": {
      "text/plain": [
       "['I baked  cookies. Do you want some?', \"I'll bring you tomorrow :-)\"]"
      ]
     },
     "execution_count": 48,
     "metadata": {},
     "output_type": "execute_result"
    }
   ],
   "source": [
    "p_2"
   ]
  },
  {
   "cell_type": "code",
   "execution_count": 46,
   "id": "23612b98",
   "metadata": {},
   "outputs": [
    {
     "name": "stdout",
     "output_type": "stream",
     "text": [
      "Percentage Speaker 1: 33.33333333333333%\n",
      "Percentage Speaker 2: 66.66666666666666%\n"
     ]
    },
    {
     "data": {
      "image/png": "[encoded data removed]",
      "text/plain": [
       "<Figure size 432x288 with 1 Axes>"
      ]
     },
     "metadata": {
      "needs_background": "light"
     },
     "output_type": "display_data"
    }
   ],
   "source": [
    "labels = ['Person 1', 'Person 2']\n",
    "plt.bar(labels, [len_person_1, len_person_2])\n",
    "plt.ylabel('String length')\n",
    "\n",
    "total_length = len_person_1 + len_person_2\n",
    "percent_1 = len_person_1 / total_length * 100\n",
    "percent_2 = len_person_2 / total_length * 100\n",
    "print(f'Percentage Speaker 1: {percent_1}%')\n",
    "print(f'Percentage Speaker 2: {percent_2}%')"
   ]
  },
  {
   "cell_type": "code",
   "execution_count": null,
   "id": "df3f139c",
   "metadata": {},
   "outputs": [],
   "source": []
  }
 ],
 "metadata": {
  "kernelspec": {
   "display_name": "Python 3",
   "language": "python",
   "name": "python3"
  },
  "language_info": {
   "codemirror_mode": {
    "name": "ipython",
    "version": 3
   },
   "file_extension": ".py",
   "mimetype": "text/x-python",
   "name": "python",
   "nbconvert_exporter": "python",
   "pygments_lexer": "ipython3",
   "version": "3.6.9"
  }
 },
 "nbformat": 4,
 "nbformat_minor": 5
}
